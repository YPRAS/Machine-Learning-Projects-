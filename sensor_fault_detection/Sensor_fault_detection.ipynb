{
 "cells": [
  {
   "cell_type": "markdown",
   "id": "0c94ef71",
   "metadata": {},
   "source": [
    "# Sensor Component Failure Prediction"
   ]
  },
  {
   "cell_type": "markdown",
   "id": "d0ae985d",
   "metadata": {},
   "source": [
    "## 1) Problem statement.\n",
    "\n",
    "**Data:** Sensor Data\n",
    "\n",
    "**Problem statement :**\n",
    "- The system in focus is the Air Pressure system (APS) which generates pressurized air that are utilized in various functions in a truck, such as braking and gear changes. \n",
    "- `The datasets positive class corresponds to component failures for a specific component of the APS system`. \n",
    "- `The negative class corresponds to trucks with failures for components not related to the APS system`.\n",
    "\n",
    "- The problem is to reduce the cost due to unnecessary repairs. So it is required to minimize the false predictions."
   ]
  },
  {
   "cell_type": "markdown",
   "id": "ffe34ca1",
   "metadata": {},
   "source": [
    "|True class | Positive | Negative | |\n",
    "| ----------- | ----------- |   |  |\n",
    "|<b>Predicted class</b>||| |\n",
    "| Positive      |   -       | cost_1  |    |\n",
    "| Negative   | cost_2        |  | |\n",
    "\n",
    "\n",
    "Cost 1 = 10 and Cost 2 = 500"
   ]
  },
  {
   "cell_type": "markdown",
   "id": "4526b2f4",
   "metadata": {},
   "source": [
    "- The total cost of a prediction model the sum of `Cost_1` multiplied by the number of Instances with type 1 failure and `Cost_2` with the number of instances with type 2 failure, resulting in a `Total_cost`. In this case `Cost_1` refers to the cost that an unnessecary check needs to be done by an mechanic at an workshop, while `Cost_2` refer to the cost of missing a faulty truck, which may cause a breakdown. \n",
    "- `Total_cost = Cost_1 * No_Instances + Cost_2 * No_Instances.`\n",
    "\n",
    "- From the above problem statement we could observe that, we have to reduce false positives and false negatives. More importantly we have to **reduce false negatives, since cost incurred due to false negative is 50 times higher than the false positives.**"
   ]
  },
  {
   "cell_type": "code",
   "execution_count": 1,
   "id": "9d69e609",
   "metadata": {},
   "outputs": [],
   "source": [
    "import pandas as pd\n",
    "import seaborn as sns\n",
    "import numpy as np\n",
    "from statistics import mean\n",
    "import matplotlib.pyplot as plt\n",
    "import warnings\n",
    "from sklearn.preprocessing import PowerTransformer\n",
    "import numpy as np\n",
    "from sklearn.preprocessing import LabelEncoder\n",
    "from sklearn.pipeline import Pipeline\n",
    "from sklearn.utils import resample\n",
    "\n",
    "from sklearn.linear_model import LogisticRegression\n",
    "from sklearn.ensemble import RandomForestClassifier, AdaBoostClassifier, GradientBoostingClassifier\n",
    "from sklearn.neighbors import KNeighborsClassifier\n",
    "from sklearn.tree import DecisionTreeClassifier\n",
    "from sklearn.svm import SVC\n",
    "from xgboost import XGBClassifier\n",
    "from catboost import CatBoostClassifier\n",
    "from sklearn.metrics import accuracy_score, classification_report,ConfusionMatrixDisplay, \\\n",
    "                            precision_score, recall_score, f1_score, roc_auc_score,roc_curve,confusion_matrix\n",
    "\n",
    "\n",
    "from sklearn import metrics \n",
    "from sklearn.model_selection import  train_test_split, RepeatedStratifiedKFold, cross_val_score\n",
    "from sklearn.preprocessing import OneHotEncoder, MinMaxScaler\n",
    "from sklearn.compose import ColumnTransformer\n",
    "from sklearn.impute import SimpleImputer, KNNImputer\n",
    "from sklearn.preprocessing import StandardScaler, MinMaxScaler,RobustScaler\n",
    "from sklearn.compose import ColumnTransformer\n",
    "\n",
    "from imblearn.combine import SMOTETomek\n",
    "%matplotlib inline"
   ]
  },
  {
   "cell_type": "markdown",
   "id": "ac3f58c9",
   "metadata": {},
   "source": [
    "### Read Data "
   ]
  },
  {
   "cell_type": "code",
   "execution_count": 2,
   "id": "976bea48",
   "metadata": {},
   "outputs": [],
   "source": [
    "raw_data  = pd.read_csv(\"dataset.csv\",na_values=\"na\")"
   ]
  },
  {
   "cell_type": "code",
   "execution_count": 3,
   "id": "d940e8f7",
   "metadata": {},
   "outputs": [
    {
     "data": {
      "text/html": [
       "<div>\n",
       "<style scoped>\n",
       "    .dataframe tbody tr th:only-of-type {\n",
       "        vertical-align: middle;\n",
       "    }\n",
       "\n",
       "    .dataframe tbody tr th {\n",
       "        vertical-align: top;\n",
       "    }\n",
       "\n",
       "    .dataframe thead th {\n",
       "        text-align: right;\n",
       "    }\n",
       "</style>\n",
       "<table border=\"1\" class=\"dataframe\">\n",
       "  <thead>\n",
       "    <tr style=\"text-align: right;\">\n",
       "      <th></th>\n",
       "      <th>class</th>\n",
       "      <th>aa_000</th>\n",
       "      <th>ab_000</th>\n",
       "      <th>ac_000</th>\n",
       "      <th>ad_000</th>\n",
       "      <th>ae_000</th>\n",
       "      <th>af_000</th>\n",
       "      <th>ag_000</th>\n",
       "      <th>ag_001</th>\n",
       "      <th>ag_002</th>\n",
       "      <th>...</th>\n",
       "      <th>ee_002</th>\n",
       "      <th>ee_003</th>\n",
       "      <th>ee_004</th>\n",
       "      <th>ee_005</th>\n",
       "      <th>ee_006</th>\n",
       "      <th>ee_007</th>\n",
       "      <th>ee_008</th>\n",
       "      <th>ee_009</th>\n",
       "      <th>ef_000</th>\n",
       "      <th>eg_000</th>\n",
       "    </tr>\n",
       "  </thead>\n",
       "  <tbody>\n",
       "    <tr>\n",
       "      <th>0</th>\n",
       "      <td>pos</td>\n",
       "      <td>153204</td>\n",
       "      <td>0.0</td>\n",
       "      <td>182.0</td>\n",
       "      <td>NaN</td>\n",
       "      <td>0.0</td>\n",
       "      <td>0.0</td>\n",
       "      <td>0.0</td>\n",
       "      <td>0.0</td>\n",
       "      <td>0.0</td>\n",
       "      <td>...</td>\n",
       "      <td>129862.0</td>\n",
       "      <td>26872.0</td>\n",
       "      <td>34044.0</td>\n",
       "      <td>22472.0</td>\n",
       "      <td>34362.0</td>\n",
       "      <td>0.0</td>\n",
       "      <td>0.0</td>\n",
       "      <td>0.0</td>\n",
       "      <td>0.0</td>\n",
       "      <td>0.0</td>\n",
       "    </tr>\n",
       "    <tr>\n",
       "      <th>1</th>\n",
       "      <td>pos</td>\n",
       "      <td>453236</td>\n",
       "      <td>NaN</td>\n",
       "      <td>2926.0</td>\n",
       "      <td>NaN</td>\n",
       "      <td>0.0</td>\n",
       "      <td>0.0</td>\n",
       "      <td>0.0</td>\n",
       "      <td>0.0</td>\n",
       "      <td>222.0</td>\n",
       "      <td>...</td>\n",
       "      <td>7908038.0</td>\n",
       "      <td>3026002.0</td>\n",
       "      <td>5025350.0</td>\n",
       "      <td>2025766.0</td>\n",
       "      <td>1160638.0</td>\n",
       "      <td>533834.0</td>\n",
       "      <td>493800.0</td>\n",
       "      <td>6914.0</td>\n",
       "      <td>0.0</td>\n",
       "      <td>0.0</td>\n",
       "    </tr>\n",
       "    <tr>\n",
       "      <th>2</th>\n",
       "      <td>pos</td>\n",
       "      <td>72504</td>\n",
       "      <td>NaN</td>\n",
       "      <td>1594.0</td>\n",
       "      <td>1052.0</td>\n",
       "      <td>0.0</td>\n",
       "      <td>0.0</td>\n",
       "      <td>0.0</td>\n",
       "      <td>244.0</td>\n",
       "      <td>178226.0</td>\n",
       "      <td>...</td>\n",
       "      <td>1432098.0</td>\n",
       "      <td>372252.0</td>\n",
       "      <td>527514.0</td>\n",
       "      <td>358274.0</td>\n",
       "      <td>332818.0</td>\n",
       "      <td>284178.0</td>\n",
       "      <td>3742.0</td>\n",
       "      <td>0.0</td>\n",
       "      <td>0.0</td>\n",
       "      <td>0.0</td>\n",
       "    </tr>\n",
       "    <tr>\n",
       "      <th>3</th>\n",
       "      <td>pos</td>\n",
       "      <td>762958</td>\n",
       "      <td>NaN</td>\n",
       "      <td>NaN</td>\n",
       "      <td>NaN</td>\n",
       "      <td>NaN</td>\n",
       "      <td>NaN</td>\n",
       "      <td>776.0</td>\n",
       "      <td>281128.0</td>\n",
       "      <td>2186308.0</td>\n",
       "      <td>...</td>\n",
       "      <td>NaN</td>\n",
       "      <td>NaN</td>\n",
       "      <td>NaN</td>\n",
       "      <td>NaN</td>\n",
       "      <td>NaN</td>\n",
       "      <td>NaN</td>\n",
       "      <td>NaN</td>\n",
       "      <td>NaN</td>\n",
       "      <td>NaN</td>\n",
       "      <td>NaN</td>\n",
       "    </tr>\n",
       "    <tr>\n",
       "      <th>4</th>\n",
       "      <td>pos</td>\n",
       "      <td>695994</td>\n",
       "      <td>NaN</td>\n",
       "      <td>NaN</td>\n",
       "      <td>NaN</td>\n",
       "      <td>NaN</td>\n",
       "      <td>NaN</td>\n",
       "      <td>0.0</td>\n",
       "      <td>0.0</td>\n",
       "      <td>0.0</td>\n",
       "      <td>...</td>\n",
       "      <td>1397742.0</td>\n",
       "      <td>495544.0</td>\n",
       "      <td>361646.0</td>\n",
       "      <td>28610.0</td>\n",
       "      <td>5130.0</td>\n",
       "      <td>212.0</td>\n",
       "      <td>0.0</td>\n",
       "      <td>0.0</td>\n",
       "      <td>NaN</td>\n",
       "      <td>NaN</td>\n",
       "    </tr>\n",
       "  </tbody>\n",
       "</table>\n",
       "<p>5 rows × 171 columns</p>\n",
       "</div>"
      ],
      "text/plain": [
       "  class  aa_000  ab_000  ac_000  ad_000  ae_000  af_000  ag_000    ag_001  \\\n",
       "0   pos  153204     0.0   182.0     NaN     0.0     0.0     0.0       0.0   \n",
       "1   pos  453236     NaN  2926.0     NaN     0.0     0.0     0.0       0.0   \n",
       "2   pos   72504     NaN  1594.0  1052.0     0.0     0.0     0.0     244.0   \n",
       "3   pos  762958     NaN     NaN     NaN     NaN     NaN   776.0  281128.0   \n",
       "4   pos  695994     NaN     NaN     NaN     NaN     NaN     0.0       0.0   \n",
       "\n",
       "      ag_002  ...     ee_002     ee_003     ee_004     ee_005     ee_006  \\\n",
       "0        0.0  ...   129862.0    26872.0    34044.0    22472.0    34362.0   \n",
       "1      222.0  ...  7908038.0  3026002.0  5025350.0  2025766.0  1160638.0   \n",
       "2   178226.0  ...  1432098.0   372252.0   527514.0   358274.0   332818.0   \n",
       "3  2186308.0  ...        NaN        NaN        NaN        NaN        NaN   \n",
       "4        0.0  ...  1397742.0   495544.0   361646.0    28610.0     5130.0   \n",
       "\n",
       "     ee_007    ee_008  ee_009  ef_000  eg_000  \n",
       "0       0.0       0.0     0.0     0.0     0.0  \n",
       "1  533834.0  493800.0  6914.0     0.0     0.0  \n",
       "2  284178.0    3742.0     0.0     0.0     0.0  \n",
       "3       NaN       NaN     NaN     NaN     NaN  \n",
       "4     212.0       0.0     0.0     NaN     NaN  \n",
       "\n",
       "[5 rows x 171 columns]"
      ]
     },
     "execution_count": 3,
     "metadata": {},
     "output_type": "execute_result"
    }
   ],
   "source": [
    "raw_data.head()"
   ]
  },
  {
   "cell_type": "code",
   "execution_count": 4,
   "id": "3304a855",
   "metadata": {},
   "outputs": [
    {
     "name": "stdout",
     "output_type": "stream",
     "text": [
      "<class 'pandas.core.frame.DataFrame'>\n",
      "RangeIndex: 36188 entries, 0 to 36187\n",
      "Columns: 171 entries, class to eg_000\n",
      "dtypes: float64(169), int64(1), object(1)\n",
      "memory usage: 47.2+ MB\n"
     ]
    }
   ],
   "source": [
    "raw_data.info()"
   ]
  },
  {
   "cell_type": "code",
   "execution_count": 5,
   "id": "44e941e7",
   "metadata": {},
   "outputs": [
    {
     "data": {
      "text/plain": [
       "(36188, 171)"
      ]
     },
     "execution_count": 5,
     "metadata": {},
     "output_type": "execute_result"
    }
   ],
   "source": [
    "raw_data.shape"
   ]
  },
  {
   "cell_type": "code",
   "execution_count": 6,
   "id": "fa08005f",
   "metadata": {},
   "outputs": [
    {
     "name": "stdout",
     "output_type": "stream",
     "text": [
      "We have 170 numerical features : ['aa_000', 'ab_000', 'ac_000', 'ad_000', 'ae_000', 'af_000', 'ag_000', 'ag_001', 'ag_002', 'ag_003', 'ag_004', 'ag_005', 'ag_006', 'ag_007', 'ag_008', 'ag_009', 'ah_000', 'ai_000', 'aj_000', 'ak_000', 'al_000', 'am_0', 'an_000', 'ao_000', 'ap_000', 'aq_000', 'ar_000', 'as_000', 'at_000', 'au_000', 'av_000', 'ax_000', 'ay_000', 'ay_001', 'ay_002', 'ay_003', 'ay_004', 'ay_005', 'ay_006', 'ay_007', 'ay_008', 'ay_009', 'az_000', 'az_001', 'az_002', 'az_003', 'az_004', 'az_005', 'az_006', 'az_007', 'az_008', 'az_009', 'ba_000', 'ba_001', 'ba_002', 'ba_003', 'ba_004', 'ba_005', 'ba_006', 'ba_007', 'ba_008', 'ba_009', 'bb_000', 'bc_000', 'bd_000', 'be_000', 'bf_000', 'bg_000', 'bh_000', 'bi_000', 'bj_000', 'bk_000', 'bl_000', 'bm_000', 'bn_000', 'bo_000', 'bp_000', 'bq_000', 'br_000', 'bs_000', 'bt_000', 'bu_000', 'bv_000', 'bx_000', 'by_000', 'bz_000', 'ca_000', 'cb_000', 'cc_000', 'cd_000', 'ce_000', 'cf_000', 'cg_000', 'ch_000', 'ci_000', 'cj_000', 'ck_000', 'cl_000', 'cm_000', 'cn_000', 'cn_001', 'cn_002', 'cn_003', 'cn_004', 'cn_005', 'cn_006', 'cn_007', 'cn_008', 'cn_009', 'co_000', 'cp_000', 'cq_000', 'cr_000', 'cs_000', 'cs_001', 'cs_002', 'cs_003', 'cs_004', 'cs_005', 'cs_006', 'cs_007', 'cs_008', 'cs_009', 'ct_000', 'cu_000', 'cv_000', 'cx_000', 'cy_000', 'cz_000', 'da_000', 'db_000', 'dc_000', 'dd_000', 'de_000', 'df_000', 'dg_000', 'dh_000', 'di_000', 'dj_000', 'dk_000', 'dl_000', 'dm_000', 'dn_000', 'do_000', 'dp_000', 'dq_000', 'dr_000', 'ds_000', 'dt_000', 'du_000', 'dv_000', 'dx_000', 'dy_000', 'dz_000', 'ea_000', 'eb_000', 'ec_00', 'ed_000', 'ee_000', 'ee_001', 'ee_002', 'ee_003', 'ee_004', 'ee_005', 'ee_006', 'ee_007', 'ee_008', 'ee_009', 'ef_000', 'eg_000']\n",
      "\n",
      "We have 1 categorical features : ['class']\n"
     ]
    }
   ],
   "source": [
    "# define numerical & categorical columns\n",
    "numeric_features = [feature for feature in raw_data.columns if raw_data[feature].dtype != 'O']\n",
    "categorical_features = [feature for feature in raw_data.columns if raw_data[feature].dtype == 'O']\n",
    "\n",
    "print('We have {} numerical features : {}'.format(len(numeric_features), numeric_features))\n",
    "print('\\nWe have {} categorical features : {}'.format(len(categorical_features), categorical_features))"
   ]
  },
  {
   "cell_type": "code",
   "execution_count": 7,
   "id": "2bf6f779",
   "metadata": {},
   "outputs": [
    {
     "data": {
      "image/png": "[encoded data removed]",
      "text/plain": [
       "<Figure size 1500x500 with 1 Axes>"
      ]
     },
     "metadata": {},
     "output_type": "display_data"
    }
   ],
   "source": [
    "# Plotting Missing values count for each column\n",
    "fig, ax = plt.subplots(figsize=(15,5))\n",
    "\n",
    "missing = raw_data.isna().sum().div(raw_data.shape[0]).mul(100).to_frame().sort_values(by=0, ascending = False)\n",
    "\n",
    "ax.bar(missing.index, missing.values.T[0])\n",
    "plt.xticks([])\n",
    "plt.ylabel(\"Percentage missing\")\n",
    "plt.show()"
   ]
  },
  {
   "cell_type": "code",
   "execution_count": 8,
   "id": "a5552a6a",
   "metadata": {},
   "outputs": [
    {
     "name": "stdout",
     "output_type": "stream",
     "text": [
      "                0\n",
      "br_000  81.410965\n",
      "bq_000  80.501824\n",
      "bp_000  78.794075\n",
      "ab_000  77.086327\n",
      "cr_000  77.086327\n",
      "bo_000  76.533658\n",
      "bn_000  72.761689\n",
      "bm_000  65.518957\n",
      "8\n"
     ]
    }
   ],
   "source": [
    "dropcols = missing[missing[0]>50]\n",
    "print(dropcols)\n",
    "print(len(dropcols))"
   ]
  },
  {
   "cell_type": "markdown",
   "id": "300ed135",
   "metadata": {},
   "source": [
    "### Dropping Columns which has more than 50% of missing values."
   ]
  },
  {
   "cell_type": "code",
   "execution_count": 9,
   "id": "0db7b45f",
   "metadata": {},
   "outputs": [],
   "source": [
    "raw_data.drop(list(dropcols.index), axis=1, inplace=True)"
   ]
  },
  {
   "cell_type": "code",
   "execution_count": 10,
   "id": "a746b4b5",
   "metadata": {},
   "outputs": [
    {
     "data": {
      "text/plain": [
       "(36188, 163)"
      ]
     },
     "execution_count": 10,
     "metadata": {},
     "output_type": "execute_result"
    }
   ],
   "source": [
    "raw_data.shape"
   ]
  },
  {
   "cell_type": "markdown",
   "id": "b7c4658e",
   "metadata": {},
   "source": [
    "### Check the total percentage of missing values of full dataset after dropping columns with more than 20% of missing values"
   ]
  },
  {
   "cell_type": "code",
   "execution_count": 11,
   "id": "724cdf74",
   "metadata": {},
   "outputs": [
    {
     "name": "stdout",
     "output_type": "stream",
     "text": [
      "Percentage of total missing cells in the data 5.0015901959840265%\n"
     ]
    }
   ],
   "source": [
    "missing_values_count= raw_data.isnull().sum()\n",
    "total_cells = np.product(raw_data.shape)\n",
    "total_missing = missing_values_count.sum()\n",
    "\n",
    "# percent of data that is missing\n",
    "print(f\"Percentage of total missing cells in the data {(total_missing/total_cells) * 100}%\")"
   ]
  },
  {
   "cell_type": "markdown",
   "id": "477e7834",
   "metadata": {},
   "source": [
    " "
   ]
  },
  {
   "cell_type": "markdown",
   "id": "bd86250a",
   "metadata": {},
   "source": [
    "### Visualization of unique values in Target variable"
   ]
  },
  {
   "cell_type": "code",
   "execution_count": 12,
   "id": "291c522d",
   "metadata": {},
   "outputs": [
    {
     "name": "stdout",
     "output_type": "stream",
     "text": [
      "Positive: 1000, Negative: 35188\n"
     ]
    },
    {
     "data": {
      "image/png": "[encoded data removed]",
      "text/plain": [
       "<Figure size 500x500 with 1 Axes>"
      ]
     },
     "metadata": {},
     "output_type": "display_data"
    }
   ],
   "source": [
    "pos = raw_data[raw_data['class']=='pos'].shape[0]\n",
    "neg = raw_data[raw_data['class']=='neg'].shape[0]\n",
    "print(\"Positive: \" + str(pos) + \", Negative: \" + str(neg))\n",
    "sns.catplot(data=raw_data, x=\"class\", kind=\"count\", hue=\"class\", palette=\"cubehelix\", alpha=.6, legend=False)\n",
    "plt.show()"
   ]
  },
  {
   "cell_type": "markdown",
   "id": "df5f4421",
   "metadata": {},
   "source": [
    "**Report**\n",
    "- The target class is highly imbalanced\n",
    "- Class imbalance is a scenario that arises when we have unequal distribution of class in a dataset i.e. the no. of data points in the negative class (majority class) very large compared to that of the positive class (minority class)\n",
    "- If the imbalanced data is not treated beforehand, then this will degrade the performance of the classifier model. \n",
    "- Hence we should handle imbalanced data with certain methods.\n",
    "\n",
    "**How to handle Imbalance Data ?**\n",
    "\n",
    "- Resampling data is one of the most commonly preferred approaches to deal with an imbalanced dataset. There are broadly two types of methods for this i) Undersampling ii) Oversampling. In most cases, oversampling is preferred over undersampling techniques. The reason being, in undersampling we tend to remove instances from data that may be carrying some important information.\n",
    "- **SMOTE:** Synthetic Minority Oversampling Technique\n",
    "- SMOTE is an oversampling technique where the synthetic samples are generated for the minority class.\n",
    "- Hybridization techniques involve combining both undersampling and oversampling techniques. This is done to optimize the performance of classifier models for the samples created as part of these techniques.\n",
    "- It only duplicates the data and it won't add and new information. Hence we look at some different techniques."
   ]
  },
  {
   "cell_type": "code",
   "execution_count": 13,
   "id": "514fdb8a",
   "metadata": {},
   "outputs": [],
   "source": [
    "df= raw_data"
   ]
  },
  {
   "cell_type": "markdown",
   "id": "66e324be",
   "metadata": {},
   "source": [
    "### Creating a function for model training and evaluation"
   ]
  },
  {
   "cell_type": "code",
   "execution_count": 14,
   "id": "58ef9343",
   "metadata": {},
   "outputs": [],
   "source": [
    "def evaluate_clf(true, predicted):\n",
    "    '''\n",
    "    This function takes in true values and predicted values\n",
    "    Returns: Accuracy, F1-Score, Precision, Recall, Roc-auc Score\n",
    "    '''\n",
    "    acc = accuracy_score(true, predicted) # Calculate Accuracy\n",
    "    f1 = f1_score(true, predicted) # Calculate F1-score\n",
    "    precision = precision_score(true, predicted) # Calculate Precision\n",
    "    recall = recall_score(true, predicted)  # Calculate Recall\n",
    "    roc_auc = roc_auc_score(true, predicted) #Calculate Roc\n",
    "    return acc, f1 , precision, recall, roc_auc"
   ]
  },
  {
   "cell_type": "code",
   "execution_count": 15,
   "id": "c884d4c7",
   "metadata": {},
   "outputs": [],
   "source": [
    "# Create cost of the model as per data description\n",
    "def total_cost(y_true, y_pred):\n",
    "    '''\n",
    "    This function takes y_true, y_predicted, and prints Total cost due to misclassification\n",
    "   \n",
    "    '''\n",
    "    tn, fp, fn, tp = confusion_matrix(y_true, y_pred).ravel()\n",
    "    cost = 10*fp + 500*fn\n",
    "    return cost"
   ]
  },
  {
   "cell_type": "markdown",
   "id": "dc5e7471",
   "metadata": {},
   "source": [
    " "
   ]
  },
  {
   "cell_type": "code",
   "execution_count": 16,
   "id": "ace3e63f",
   "metadata": {},
   "outputs": [],
   "source": [
    "# Create a function which can evaluate models and return a report \n",
    "def evaluate_models(X, y, models):\n",
    "    '''\n",
    "    This function takes in X and y and models dictionary as input\n",
    "    It splits the data into Train Test split\n",
    "    Iterates through the given model dictionary and evaluates the metrics\n",
    "    Returns: Dataframe which contains report of all models metrics with cost\n",
    "    '''\n",
    "    # separate dataset into train and test\n",
    "    X_train, X_test, y_train, y_test = train_test_split(X,y,test_size=0.2,random_state=42)\n",
    "    \n",
    "    cost_list=[]\n",
    "    models_list = []\n",
    "    accuracy_list = []\n",
    "    \n",
    "    for i in range(len(list(models))):\n",
    "        model = list(models.values())[i]\n",
    "        model.fit(X_train, y_train) # Train model\n",
    "\n",
    "        # Make predictions\n",
    "        y_train_pred = model.predict(X_train)\n",
    "        y_test_pred = model.predict(X_test)\n",
    "\n",
    "        # Training set performance\n",
    "        model_train_accuracy, model_train_f1,model_train_precision,\\\n",
    "        model_train_recall,model_train_rocauc_score=evaluate_clf(y_train ,y_train_pred)\n",
    "        train_cost = total_cost(y_train, y_train_pred)\n",
    "\n",
    "\n",
    "        # Test set performance\n",
    "        model_test_accuracy,model_test_f1,model_test_precision,\\\n",
    "        model_test_recall,model_test_rocauc_score=evaluate_clf(y_test, y_test_pred)\n",
    "        test_cost = total_cost(y_test, y_test_pred)\n",
    "\n",
    "        print(list(models.keys())[i])\n",
    "        models_list.append(list(models.keys())[i])\n",
    "\n",
    "        print('Model performance for Training set')\n",
    "        print(\"- Accuracy: {:.4f}\".format(model_train_accuracy))\n",
    "        print('- F1 score: {:.4f}'.format(model_train_f1)) \n",
    "        print('- Precision: {:.4f}'.format(model_train_precision))\n",
    "        print('- Recall: {:.4f}'.format(model_train_recall))\n",
    "        print('- Roc Auc Score: {:.4f}'.format(model_train_rocauc_score))\n",
    "        print(f'- COST: {train_cost}.')\n",
    "\n",
    "        print('----------------------------------')\n",
    "\n",
    "        print('Model performance for Test set')\n",
    "        print('- Accuracy: {:.4f}'.format(model_test_accuracy))\n",
    "        print('- F1 score: {:.4f}'.format(model_test_f1))\n",
    "        print('- Precision: {:.4f}'.format(model_test_precision))\n",
    "        print('- Recall: {:.4f}'.format(model_test_recall))\n",
    "        print('- Roc Auc Score: {:.4f}'.format(model_test_rocauc_score))\n",
    "        print(f'- COST: {test_cost}.')\n",
    "        cost_list.append(test_cost)\n",
    "        print('='*35)\n",
    "        print('\\n')\n",
    "        \n",
    "    report=pd.DataFrame(list(zip(models_list, cost_list)), columns=['Model Name', 'Cost']).sort_values(by=[\"Cost\"])\n",
    "        \n",
    "    return report"
   ]
  },
  {
   "cell_type": "code",
   "execution_count": null,
   "id": "0069841a",
   "metadata": {},
   "outputs": [],
   "source": []
  },
  {
   "cell_type": "markdown",
   "id": "aa59c242",
   "metadata": {},
   "source": [
    "## Evaluate Model on Different experiments\n"
   ]
  },
  {
   "cell_type": "code",
   "execution_count": 17,
   "id": "6a91e8a4",
   "metadata": {},
   "outputs": [],
   "source": [
    "# Splitting X and y for all Experiments\n",
    "X= df.drop('class', axis=1)\n",
    "y = df['class']"
   ]
  },
  {
   "cell_type": "code",
   "execution_count": 18,
   "id": "f13d98a0",
   "metadata": {},
   "outputs": [],
   "source": [
    "y= y.replace({'pos': 1, 'neg': 0})"
   ]
  },
  {
   "cell_type": "markdown",
   "id": "4ad7aa58",
   "metadata": {},
   "source": [
    "### Scaling the data "
   ]
  },
  {
   "cell_type": "markdown",
   "id": "61057000",
   "metadata": {},
   "source": [
    "**Why Robust scaler and not Standard scaler?**\n",
    "- Scaling the data using Robust scaler\n",
    "- Since most of the independent variables are not normally distributed we cannot use Standardscaler"
   ]
  },
  {
   "cell_type": "markdown",
   "id": "89facd09",
   "metadata": {},
   "source": [
    "**Why Robust Scaler and not Minmax?** \n",
    "- because most of the feature has outliers. So Minmax will scale data according to Max values which is outlier.\n",
    "- This Scaler removes the median and scales the data according to the quantile range (defaults to IQR: Interquartile Range). The IQR is the range between the 1st quartile (25th quantile) and the 3rd quartile (75th quantile)."
   ]
  },
  {
   "cell_type": "code",
   "execution_count": 19,
   "id": "ceeb9c2e",
   "metadata": {},
   "outputs": [],
   "source": [
    "# Fit with robust scaler for KNN best K-selection experminet\n",
    "robustscaler = RobustScaler()\n",
    "X1 = robustscaler.fit_transform(X)"
   ]
  },
  {
   "cell_type": "markdown",
   "id": "8385543f",
   "metadata": {},
   "source": [
    "## Experiment: 1 = KNN Imputer for Null values"
   ]
  },
  {
   "cell_type": "markdown",
   "id": "6ee32532",
   "metadata": {},
   "source": [
    "**Why KNN Imputer**?\n",
    "- KNNImputer by scikit-learn is a widely used method to impute missing values. It is widely being observed as a replacement for traditional imputation techniques.\n",
    "- KNNImputer helps to impute missing values present in the observations by finding the nearest neighbors with the Euclidean distance matrix.\n",
    "- Here we Iterates through different K values and get accuracy and choose best K values."
   ]
  },
  {
   "cell_type": "markdown",
   "id": "5768296c",
   "metadata": {},
   "source": [
    "#### Finding the optimal n_neighbour value for KNN imputer"
   ]
  },
  {
   "cell_type": "markdown",
   "id": "9592fc5a",
   "metadata": {},
   "source": [
    "Pipeline workflow\n",
    "\n",
    "When the pipeline is executed, the following workflow occurs:\n",
    "\n",
    "- The input data is passed to the first step, KNNImputer.\n",
    "- The KNNImputer instance replaces missing values in the data using the KNN algorithm.\n",
    "- The imputed data is then passed to the second step, LogisticRegression.\n",
    "- The LogisticRegression instance trains a model on the imputed data and makes predictions.\n",
    "\n",
    "By chaining these two steps together, the pipeline provides a simple way to handle missing values and then train a logistic regression model on the imputed data."
   ]
  },
  {
   "cell_type": "code",
   "execution_count": 20,
   "id": "a45b594d",
   "metadata": {},
   "outputs": [
    {
     "name": "stdout",
     "output_type": "stream",
     "text": [
      "n_neighbors= 1 || accuracy (0.6993)\n",
      "n_neighbors= 3 || accuracy (0.7070)\n",
      "n_neighbors= 5 || accuracy (0.6620)\n",
      "n_neighbors= 7 || accuracy (0.6778)\n",
      "n_neighbors= 9 || accuracy (0.6898)\n"
     ]
    }
   ],
   "source": [
    "results=[]\n",
    "# define imputer\n",
    "#imputer = KNNImputer(n_neighbors=5, weights='uniform', metric='nan_euclidean')\n",
    "strategies = [str(i) for i in [1,3,5,7,9]]\n",
    "for s in strategies:\n",
    "    pipeline = Pipeline(steps=[('i', KNNImputer(n_neighbors=int(s))), ('m', LogisticRegression())])\n",
    "    scores = cross_val_score(pipeline, X1, y, scoring='accuracy', cv=5, n_jobs=-1)\n",
    "    results.append(scores)\n",
    "    \n",
    "    print('n_neighbors= %s || accuracy (%.4f)' % (s , mean(scores)))"
   ]
  },
  {
   "cell_type": "markdown",
   "id": "3a204823",
   "metadata": {},
   "source": [
    "**We can observe n_neighbors=3 able to produce highest accuracy**"
   ]
  },
  {
   "cell_type": "markdown",
   "id": "1e112554",
   "metadata": {},
   "source": [
    "### Pipeline for KNN imputer"
   ]
  },
  {
   "cell_type": "code",
   "execution_count": 21,
   "id": "1f599d64",
   "metadata": {},
   "outputs": [],
   "source": [
    "num_features = X.select_dtypes(exclude=\"object\").columns\n",
    "\n",
    "# Fit the KNN imputer with selected K-value\n",
    "knn_pipeline = Pipeline(steps=[\n",
    "    ('imputer', KNNImputer(n_neighbors=3)),\n",
    "    ('RobustScaler', RobustScaler())\n",
    "])"
   ]
  },
  {
   "cell_type": "code",
   "execution_count": 22,
   "id": "16415f54",
   "metadata": {},
   "outputs": [],
   "source": [
    "X_knn =knn_pipeline.fit_transform(X)"
   ]
  },
  {
   "cell_type": "markdown",
   "id": "f2ead7f2",
   "metadata": {},
   "source": [
    "## Handling Imbalanced data"
   ]
  },
  {
   "cell_type": "markdown",
   "id": "6983705c",
   "metadata": {},
   "source": [
    "**SMOTETomek is a powerful technique for handling class imbalance in machine learning!**\n",
    "\n",
    "**SMOTETomek is a combination of two algorithms:**\n",
    "\n",
    "- SMOTE (Synthetic Minority Over-sampling Technique): A popular oversampling method that generates new samples of the minority class by interpolating between existing minority class samples.\n",
    "- Tomek Links: A method for removing noisy samples from the majority class by identifying samples that are close to the decision boundary.\n",
    "**Here's how SMOTETomek works:**\n",
    "\n",
    "**SMOTE:**\n",
    "\n",
    "- Identify the minority class samples.\n",
    "- Calculate the k-nearest neighbors (k-NN) for each minority class sample.\n",
    "- Randomly select a minority class sample and one of its k-NN.\n",
    "- Generate a new sample by interpolating between the selected minority class sample and its k-NN.\n",
    "- Repeat steps 3-4 until the desired number of new minority class samples is generated.\n",
    "\n",
    "**Tomek Links:**\n",
    "\n",
    "- Identify the majority class samples that are close to the decision boundary.\n",
    "- Remove these noisy samples from the majority class.\n",
    "- By combining SMOTE and Tomek Links, SMOTETomek achieves two goals:\n",
    "\n",
    "- Oversampling the minority class: SMOTE generates new minority class samples, increasing the size of the minority class and making the dataset more balanced.\n",
    "- Removing noisy samples from the majority class: Tomek Links removes samples from the majority class that are close to the decision boundary, reducing the impact of noisy samples on the model's performance.\n",
    "\n",
    "**The benefits of using SMOTETomek include:**\n",
    "\n",
    "- Improved model performance on imbalanced datasets\n",
    "- Reduced overfitting to the majority class\n",
    "- Increased robustness to noisy samples\n",
    "- However, it's essential to note that SMOTETomek can also have some limitations, such as:\n",
    "\n",
    "- Increased computational time and resources required\n",
    "- Risk of over-oversampling the minority class, leading to overfitting\n",
    "- Potential loss of important information from the majority class\n",
    "\n",
    "`fit_resample` is a method that fits the SMOTE algorithm to the data and resamples it to balance the classes."
   ]
  },
  {
   "cell_type": "code",
   "execution_count": 23,
   "id": "36c2df18",
   "metadata": {},
   "outputs": [
    {
     "name": "stderr",
     "output_type": "stream",
     "text": [
      "C:\\Users\\prash\\anaconda3\\Lib\\site-packages\\imblearn\\over_sampling\\_smote\\base.py:370: FutureWarning: The parameter `n_jobs` has been deprecated in 0.10 and will be removed in 0.12. You can pass an nearest neighbors estimator where `n_jobs` is already set instead.\n",
      "  warnings.warn(\n"
     ]
    }
   ],
   "source": [
    "from imblearn.combine import SMOTETomek\n",
    "\n",
    "# Resampling the minority class. The strategy can be changed as required.\n",
    "smt = SMOTETomek(random_state=42,sampling_strategy='minority',n_jobs=-1)\n",
    "# Fit the model to generate the data.\n",
    "X_res, y_res = smt.fit_resample(X_knn, y)"
   ]
  },
  {
   "cell_type": "markdown",
   "id": "fdc7cced",
   "metadata": {},
   "source": [
    "## Initialize Default Models in a dictionary"
   ]
  },
  {
   "cell_type": "code",
   "execution_count": 24,
   "id": "e9e87133",
   "metadata": {},
   "outputs": [],
   "source": [
    "# Dictionary which contains models for experiment\n",
    "models = {\n",
    "    \"Random Forest\": RandomForestClassifier(),\n",
    "    \"Decision Tree\": DecisionTreeClassifier(),\n",
    "    \"Logistic Regression\": LogisticRegression(),\n",
    "    \"K-Neighbors Classifier\": KNeighborsClassifier(),\n",
    "    \"Gradient Boosting\": GradientBoostingClassifier(),\n",
    "    \"XGBClassifier\": XGBClassifier(), \n",
    "    \"CatBoosting Classifier\": CatBoostClassifier(verbose=False),\n",
    "    \"AdaBoost Classifier\": AdaBoostClassifier()\n",
    "}"
   ]
  },
  {
   "cell_type": "markdown",
   "id": "efcb1a7b",
   "metadata": {},
   "source": [
    "### Fit KNN imputed data for models in dictionary"
   ]
  },
  {
   "cell_type": "code",
   "execution_count": 25,
   "id": "dd2f3f6b",
   "metadata": {},
   "outputs": [
    {
     "name": "stdout",
     "output_type": "stream",
     "text": [
      "Random Forest\n",
      "Model performance for Training set\n",
      "- Accuracy: 1.0000\n",
      "- F1 score: 1.0000\n",
      "- Precision: 1.0000\n",
      "- Recall: 1.0000\n",
      "- Roc Auc Score: 1.0000\n",
      "- COST: 0.\n",
      "----------------------------------\n",
      "Model performance for Test set\n",
      "- Accuracy: 0.9923\n",
      "- F1 score: 0.9924\n",
      "- Precision: 0.9880\n",
      "- Recall: 0.9967\n",
      "- Roc Auc Score: 0.9923\n",
      "- COST: 12350.\n",
      "===================================\n",
      "\n",
      "\n",
      "Decision Tree\n",
      "Model performance for Training set\n",
      "- Accuracy: 1.0000\n",
      "- F1 score: 1.0000\n",
      "- Precision: 1.0000\n",
      "- Recall: 1.0000\n",
      "- Roc Auc Score: 1.0000\n",
      "- COST: 0.\n",
      "----------------------------------\n",
      "Model performance for Test set\n",
      "- Accuracy: 0.9854\n",
      "- F1 score: 0.9855\n",
      "- Precision: 0.9825\n",
      "- Recall: 0.9885\n",
      "- Roc Auc Score: 0.9854\n",
      "- COST: 41740.\n",
      "===================================\n",
      "\n",
      "\n"
     ]
    },
    {
     "name": "stderr",
     "output_type": "stream",
     "text": [
      "C:\\Users\\prash\\anaconda3\\Lib\\site-packages\\sklearn\\linear_model\\_logistic.py:469: ConvergenceWarning: lbfgs failed to converge (status=1):\n",
      "STOP: TOTAL NO. of ITERATIONS REACHED LIMIT.\n",
      "\n",
      "Increase the number of iterations (max_iter) or scale the data as shown in:\n",
      "    https://scikit-learn.org/stable/modules/preprocessing.html\n",
      "Please also refer to the documentation for alternative solver options:\n",
      "    https://scikit-learn.org/stable/modules/linear_model.html#logistic-regression\n",
      "  n_iter_i = _check_optimize_result(\n"
     ]
    },
    {
     "name": "stdout",
     "output_type": "stream",
     "text": [
      "Logistic Regression\n",
      "Model performance for Training set\n",
      "- Accuracy: 0.5849\n",
      "- F1 score: 0.6903\n",
      "- Precision: 0.5503\n",
      "- Recall: 0.9260\n",
      "- Roc Auc Score: 0.5852\n",
      "- COST: 1249720.\n",
      "----------------------------------\n",
      "Model performance for Test set\n",
      "- Accuracy: 0.5830\n",
      "- F1 score: 0.6905\n",
      "- Precision: 0.5499\n",
      "- Recall: 0.9275\n",
      "- Roc Auc Score: 0.5820\n",
      "- COST: 308410.\n",
      "===================================\n",
      "\n",
      "\n",
      "K-Neighbors Classifier\n",
      "Model performance for Training set\n",
      "- Accuracy: 0.9811\n",
      "- F1 score: 0.9813\n",
      "- Precision: 0.9697\n",
      "- Recall: 0.9933\n",
      "- Roc Auc Score: 0.9811\n",
      "- COST: 103200.\n",
      "----------------------------------\n",
      "Model performance for Test set\n",
      "- Accuracy: 0.9762\n",
      "- F1 score: 0.9766\n",
      "- Precision: 0.9626\n",
      "- Recall: 0.9910\n",
      "- Roc Auc Score: 0.9762\n",
      "- COST: 34210.\n",
      "===================================\n",
      "\n",
      "\n",
      "Gradient Boosting\n",
      "Model performance for Training set\n",
      "- Accuracy: 0.9835\n",
      "- F1 score: 0.9835\n",
      "- Precision: 0.9810\n",
      "- Recall: 0.9861\n",
      "- Roc Auc Score: 0.9835\n",
      "- COST: 200360.\n",
      "----------------------------------\n",
      "Model performance for Test set\n",
      "- Accuracy: 0.9813\n",
      "- F1 score: 0.9814\n",
      "- Precision: 0.9783\n",
      "- Recall: 0.9845\n",
      "- Roc Auc Score: 0.9812\n",
      "- COST: 56040.\n",
      "===================================\n",
      "\n",
      "\n",
      "XGBClassifier\n",
      "Model performance for Training set\n",
      "- Accuracy: 1.0000\n",
      "- F1 score: 1.0000\n",
      "- Precision: 1.0000\n",
      "- Recall: 1.0000\n",
      "- Roc Auc Score: 1.0000\n",
      "- COST: 0.\n",
      "----------------------------------\n",
      "Model performance for Test set\n",
      "- Accuracy: 0.9964\n",
      "- F1 score: 0.9965\n",
      "- Precision: 0.9943\n",
      "- Recall: 0.9986\n",
      "- Roc Auc Score: 0.9964\n",
      "- COST: 5400.\n",
      "===================================\n",
      "\n",
      "\n",
      "CatBoosting Classifier\n",
      "Model performance for Training set\n",
      "- Accuracy: 0.9992\n",
      "- F1 score: 0.9992\n",
      "- Precision: 0.9991\n",
      "- Recall: 0.9993\n",
      "- Roc Auc Score: 0.9992\n",
      "- COST: 10260.\n",
      "----------------------------------\n",
      "Model performance for Test set\n",
      "- Accuracy: 0.9954\n",
      "- F1 score: 0.9954\n",
      "- Precision: 0.9928\n",
      "- Recall: 0.9980\n",
      "- Roc Auc Score: 0.9954\n",
      "- COST: 7510.\n",
      "===================================\n",
      "\n",
      "\n"
     ]
    },
    {
     "name": "stderr",
     "output_type": "stream",
     "text": [
      "C:\\Users\\prash\\anaconda3\\Lib\\site-packages\\sklearn\\ensemble\\_weight_boosting.py:527: FutureWarning: The SAMME.R algorithm (the default) is deprecated and will be removed in 1.6. Use the SAMME algorithm to circumvent this warning.\n",
      "  warnings.warn(\n"
     ]
    },
    {
     "name": "stdout",
     "output_type": "stream",
     "text": [
      "AdaBoost Classifier\n",
      "Model performance for Training set\n",
      "- Accuracy: 0.9745\n",
      "- F1 score: 0.9745\n",
      "- Precision: 0.9742\n",
      "- Recall: 0.9747\n",
      "- Roc Auc Score: 0.9745\n",
      "- COST: 362230.\n",
      "----------------------------------\n",
      "Model performance for Test set\n",
      "- Accuracy: 0.9737\n",
      "- F1 score: 0.9737\n",
      "- Precision: 0.9761\n",
      "- Recall: 0.9713\n",
      "- Roc Auc Score: 0.9737\n",
      "- COST: 102670.\n",
      "===================================\n",
      "\n",
      "\n"
     ]
    }
   ],
   "source": [
    "report_knn = evaluate_models(X_res, y_res, models)"
   ]
  },
  {
   "cell_type": "markdown",
   "id": "8d9a3604",
   "metadata": {},
   "source": [
    "## Report for KNN Imputed data"
   ]
  },
  {
   "cell_type": "code",
   "execution_count": 26,
   "id": "f3cd61de",
   "metadata": {},
   "outputs": [
    {
     "data": {
      "text/html": [
       "<div>\n",
       "<style scoped>\n",
       "    .dataframe tbody tr th:only-of-type {\n",
       "        vertical-align: middle;\n",
       "    }\n",
       "\n",
       "    .dataframe tbody tr th {\n",
       "        vertical-align: top;\n",
       "    }\n",
       "\n",
       "    .dataframe thead th {\n",
       "        text-align: right;\n",
       "    }\n",
       "</style>\n",
       "<table border=\"1\" class=\"dataframe\">\n",
       "  <thead>\n",
       "    <tr style=\"text-align: right;\">\n",
       "      <th></th>\n",
       "      <th>Model Name</th>\n",
       "      <th>Cost</th>\n",
       "    </tr>\n",
       "  </thead>\n",
       "  <tbody>\n",
       "    <tr>\n",
       "      <th>5</th>\n",
       "      <td>XGBClassifier</td>\n",
       "      <td>5400</td>\n",
       "    </tr>\n",
       "    <tr>\n",
       "      <th>6</th>\n",
       "      <td>CatBoosting Classifier</td>\n",
       "      <td>7510</td>\n",
       "    </tr>\n",
       "    <tr>\n",
       "      <th>0</th>\n",
       "      <td>Random Forest</td>\n",
       "      <td>12350</td>\n",
       "    </tr>\n",
       "    <tr>\n",
       "      <th>3</th>\n",
       "      <td>K-Neighbors Classifier</td>\n",
       "      <td>34210</td>\n",
       "    </tr>\n",
       "    <tr>\n",
       "      <th>1</th>\n",
       "      <td>Decision Tree</td>\n",
       "      <td>41740</td>\n",
       "    </tr>\n",
       "    <tr>\n",
       "      <th>4</th>\n",
       "      <td>Gradient Boosting</td>\n",
       "      <td>56040</td>\n",
       "    </tr>\n",
       "    <tr>\n",
       "      <th>7</th>\n",
       "      <td>AdaBoost Classifier</td>\n",
       "      <td>102670</td>\n",
       "    </tr>\n",
       "    <tr>\n",
       "      <th>2</th>\n",
       "      <td>Logistic Regression</td>\n",
       "      <td>308410</td>\n",
       "    </tr>\n",
       "  </tbody>\n",
       "</table>\n",
       "</div>"
      ],
      "text/plain": [
       "               Model Name    Cost\n",
       "5           XGBClassifier    5400\n",
       "6  CatBoosting Classifier    7510\n",
       "0           Random Forest   12350\n",
       "3  K-Neighbors Classifier   34210\n",
       "1           Decision Tree   41740\n",
       "4       Gradient Boosting   56040\n",
       "7     AdaBoost Classifier  102670\n",
       "2     Logistic Regression  308410"
      ]
     },
     "execution_count": 26,
     "metadata": {},
     "output_type": "execute_result"
    }
   ],
   "source": [
    "report_knn"
   ]
  },
  {
   "cell_type": "markdown",
   "id": "5f0bb088",
   "metadata": {},
   "source": [
    "**Insights**\n",
    "- For the Experiment 1: Knn imputer has XGBoost classifier as the best Model\n",
    "- Proceeding with further experiments "
   ]
  },
  {
   "cell_type": "markdown",
   "id": "7879a71d",
   "metadata": {},
   "source": [
    "### Experiment: 2 = Simple Imputer with Strategy Median "
   ]
  },
  {
   "cell_type": "markdown",
   "id": "4bfb4124",
   "metadata": {},
   "source": [
    "- SimpleImputer is a class in the `sklearn.impute` module that can be used to replace missing values in a dataset, using a variety of input strategies.\n",
    "- Here we use SimpleImputer can also be used to impute multiple columns at once by passing in a list of column names. SimpleImputer will then replace missing values in all of the specified columns."
   ]
  },
  {
   "cell_type": "code",
   "execution_count": 27,
   "id": "c8450c8f",
   "metadata": {},
   "outputs": [],
   "source": [
    "num_features = X.select_dtypes(exclude=\"object\").columns\n",
    "\n",
    "# Fit the Simple imputer with strategy median\n",
    "median_pipeline = Pipeline(steps=[\n",
    "    ('imputer', SimpleImputer(strategy='median')),\n",
    "    ('RobustScaler', RobustScaler())\n",
    "])"
   ]
  },
  {
   "cell_type": "code",
   "execution_count": 28,
   "id": "b9df3911",
   "metadata": {},
   "outputs": [],
   "source": [
    "# Fit X with median_pipeline\n",
    "X_median = median_pipeline.fit_transform(X)"
   ]
  },
  {
   "cell_type": "code",
   "execution_count": 29,
   "id": "b5860281",
   "metadata": {},
   "outputs": [],
   "source": [
    "# Resampling the minority class. The strategy can be changed as required.\n",
    "smt = SMOTETomek(random_state=42,sampling_strategy='minority')\n",
    "# Fit the model to generate the data.\n",
    "X_res, y_res = smt.fit_resample(X_median, y)"
   ]
  },
  {
   "cell_type": "code",
   "execution_count": 30,
   "id": "86051b81",
   "metadata": {},
   "outputs": [
    {
     "name": "stdout",
     "output_type": "stream",
     "text": [
      "Random Forest\n",
      "Model performance for Training set\n",
      "- Accuracy: 1.0000\n",
      "- F1 score: 1.0000\n",
      "- Precision: 1.0000\n",
      "- Recall: 1.0000\n",
      "- Roc Auc Score: 1.0000\n",
      "- COST: 0.\n",
      "----------------------------------\n",
      "Model performance for Test set\n",
      "- Accuracy: 0.9928\n",
      "- F1 score: 0.9929\n",
      "- Precision: 0.9893\n",
      "- Recall: 0.9964\n",
      "- Roc Auc Score: 0.9928\n",
      "- COST: 13260.\n",
      "===================================\n",
      "\n",
      "\n",
      "Decision Tree\n",
      "Model performance for Training set\n",
      "- Accuracy: 1.0000\n",
      "- F1 score: 1.0000\n",
      "- Precision: 1.0000\n",
      "- Recall: 1.0000\n",
      "- Roc Auc Score: 1.0000\n",
      "- COST: 0.\n",
      "----------------------------------\n",
      "Model performance for Test set\n",
      "- Accuracy: 0.9857\n",
      "- F1 score: 0.9859\n",
      "- Precision: 0.9820\n",
      "- Recall: 0.9898\n",
      "- Roc Auc Score: 0.9857\n",
      "- COST: 37280.\n",
      "===================================\n",
      "\n",
      "\n"
     ]
    },
    {
     "name": "stderr",
     "output_type": "stream",
     "text": [
      "C:\\Users\\prash\\anaconda3\\Lib\\site-packages\\sklearn\\linear_model\\_logistic.py:469: ConvergenceWarning: lbfgs failed to converge (status=1):\n",
      "STOP: TOTAL NO. of ITERATIONS REACHED LIMIT.\n",
      "\n",
      "Increase the number of iterations (max_iter) or scale the data as shown in:\n",
      "    https://scikit-learn.org/stable/modules/preprocessing.html\n",
      "Please also refer to the documentation for alternative solver options:\n",
      "    https://scikit-learn.org/stable/modules/linear_model.html#logistic-regression\n",
      "  n_iter_i = _check_optimize_result(\n"
     ]
    },
    {
     "name": "stdout",
     "output_type": "stream",
     "text": [
      "Logistic Regression\n",
      "Model performance for Training set\n",
      "- Accuracy: 0.6222\n",
      "- F1 score: 0.7227\n",
      "- Precision: 0.5705\n",
      "- Recall: 0.9857\n",
      "- Roc Auc Score: 0.6225\n",
      "- COST: 408030.\n",
      "----------------------------------\n",
      "Model performance for Test set\n",
      "- Accuracy: 0.6245\n",
      "- F1 score: 0.7244\n",
      "- Precision: 0.5733\n",
      "- Recall: 0.9835\n",
      "- Roc Auc Score: 0.6232\n",
      "- COST: 109530.\n",
      "===================================\n",
      "\n",
      "\n",
      "K-Neighbors Classifier\n",
      "Model performance for Training set\n",
      "- Accuracy: 0.9809\n",
      "- F1 score: 0.9811\n",
      "- Precision: 0.9690\n",
      "- Recall: 0.9935\n",
      "- Roc Auc Score: 0.9809\n",
      "- COST: 99400.\n",
      "----------------------------------\n",
      "Model performance for Test set\n",
      "- Accuracy: 0.9736\n",
      "- F1 score: 0.9740\n",
      "- Precision: 0.9596\n",
      "- Recall: 0.9889\n",
      "- Roc Auc Score: 0.9735\n",
      "- COST: 41930.\n",
      "===================================\n",
      "\n",
      "\n",
      "Gradient Boosting\n",
      "Model performance for Training set\n",
      "- Accuracy: 0.9836\n",
      "- F1 score: 0.9836\n",
      "- Precision: 0.9813\n",
      "- Recall: 0.9859\n",
      "- Roc Auc Score: 0.9836\n",
      "- COST: 202780.\n",
      "----------------------------------\n",
      "Model performance for Test set\n",
      "- Accuracy: 0.9823\n",
      "- F1 score: 0.9824\n",
      "- Precision: 0.9795\n",
      "- Recall: 0.9852\n",
      "- Roc Auc Score: 0.9822\n",
      "- COST: 53450.\n",
      "===================================\n",
      "\n",
      "\n",
      "XGBClassifier\n",
      "Model performance for Training set\n",
      "- Accuracy: 1.0000\n",
      "- F1 score: 1.0000\n",
      "- Precision: 1.0000\n",
      "- Recall: 1.0000\n",
      "- Roc Auc Score: 1.0000\n",
      "- COST: 500.\n",
      "----------------------------------\n",
      "Model performance for Test set\n",
      "- Accuracy: 0.9967\n",
      "- F1 score: 0.9967\n",
      "- Precision: 0.9938\n",
      "- Recall: 0.9997\n",
      "- Roc Auc Score: 0.9967\n",
      "- COST: 1440.\n",
      "===================================\n",
      "\n",
      "\n",
      "CatBoosting Classifier\n",
      "Model performance for Training set\n",
      "- Accuracy: 0.9991\n",
      "- F1 score: 0.9991\n",
      "- Precision: 0.9991\n",
      "- Recall: 0.9991\n",
      "- Roc Auc Score: 0.9991\n",
      "- COST: 13260.\n",
      "----------------------------------\n",
      "Model performance for Test set\n",
      "- Accuracy: 0.9946\n",
      "- F1 score: 0.9946\n",
      "- Precision: 0.9919\n",
      "- Recall: 0.9973\n",
      "- Roc Auc Score: 0.9946\n",
      "- COST: 10070.\n",
      "===================================\n",
      "\n",
      "\n"
     ]
    },
    {
     "name": "stderr",
     "output_type": "stream",
     "text": [
      "C:\\Users\\prash\\anaconda3\\Lib\\site-packages\\sklearn\\ensemble\\_weight_boosting.py:527: FutureWarning: The SAMME.R algorithm (the default) is deprecated and will be removed in 1.6. Use the SAMME algorithm to circumvent this warning.\n",
      "  warnings.warn(\n"
     ]
    },
    {
     "name": "stdout",
     "output_type": "stream",
     "text": [
      "AdaBoost Classifier\n",
      "Model performance for Training set\n",
      "- Accuracy: 0.9737\n",
      "- F1 score: 0.9737\n",
      "- Precision: 0.9730\n",
      "- Recall: 0.9745\n",
      "- Roc Auc Score: 0.9737\n",
      "- COST: 365090.\n",
      "----------------------------------\n",
      "Model performance for Test set\n",
      "- Accuracy: 0.9719\n",
      "- F1 score: 0.9720\n",
      "- Precision: 0.9722\n",
      "- Recall: 0.9719\n",
      "- Roc Auc Score: 0.9719\n",
      "- COST: 100960.\n",
      "===================================\n",
      "\n",
      "\n"
     ]
    }
   ],
   "source": [
    "# Training the models\n",
    "report_median = evaluate_models(X_res, y_res, models)"
   ]
  },
  {
   "cell_type": "markdown",
   "id": "7998d0d6",
   "metadata": {},
   "source": [
    "## Report for Simple Imputer with median strategy"
   ]
  },
  {
   "cell_type": "code",
   "execution_count": 31,
   "id": "d20310b6",
   "metadata": {},
   "outputs": [
    {
     "data": {
      "text/html": [
       "<div>\n",
       "<style scoped>\n",
       "    .dataframe tbody tr th:only-of-type {\n",
       "        vertical-align: middle;\n",
       "    }\n",
       "\n",
       "    .dataframe tbody tr th {\n",
       "        vertical-align: top;\n",
       "    }\n",
       "\n",
       "    .dataframe thead th {\n",
       "        text-align: right;\n",
       "    }\n",
       "</style>\n",
       "<table border=\"1\" class=\"dataframe\">\n",
       "  <thead>\n",
       "    <tr style=\"text-align: right;\">\n",
       "      <th></th>\n",
       "      <th>Model Name</th>\n",
       "      <th>Cost</th>\n",
       "    </tr>\n",
       "  </thead>\n",
       "  <tbody>\n",
       "    <tr>\n",
       "      <th>5</th>\n",
       "      <td>XGBClassifier</td>\n",
       "      <td>1440</td>\n",
       "    </tr>\n",
       "    <tr>\n",
       "      <th>6</th>\n",
       "      <td>CatBoosting Classifier</td>\n",
       "      <td>10070</td>\n",
       "    </tr>\n",
       "    <tr>\n",
       "      <th>0</th>\n",
       "      <td>Random Forest</td>\n",
       "      <td>13260</td>\n",
       "    </tr>\n",
       "    <tr>\n",
       "      <th>1</th>\n",
       "      <td>Decision Tree</td>\n",
       "      <td>37280</td>\n",
       "    </tr>\n",
       "    <tr>\n",
       "      <th>3</th>\n",
       "      <td>K-Neighbors Classifier</td>\n",
       "      <td>41930</td>\n",
       "    </tr>\n",
       "    <tr>\n",
       "      <th>4</th>\n",
       "      <td>Gradient Boosting</td>\n",
       "      <td>53450</td>\n",
       "    </tr>\n",
       "    <tr>\n",
       "      <th>7</th>\n",
       "      <td>AdaBoost Classifier</td>\n",
       "      <td>100960</td>\n",
       "    </tr>\n",
       "    <tr>\n",
       "      <th>2</th>\n",
       "      <td>Logistic Regression</td>\n",
       "      <td>109530</td>\n",
       "    </tr>\n",
       "  </tbody>\n",
       "</table>\n",
       "</div>"
      ],
      "text/plain": [
       "               Model Name    Cost\n",
       "5           XGBClassifier    1440\n",
       "6  CatBoosting Classifier   10070\n",
       "0           Random Forest   13260\n",
       "1           Decision Tree   37280\n",
       "3  K-Neighbors Classifier   41930\n",
       "4       Gradient Boosting   53450\n",
       "7     AdaBoost Classifier  100960\n",
       "2     Logistic Regression  109530"
      ]
     },
     "execution_count": 31,
     "metadata": {},
     "output_type": "execute_result"
    }
   ],
   "source": [
    "report_median"
   ]
  },
  {
   "cell_type": "markdown",
   "id": "2dfef34d",
   "metadata": {},
   "source": [
    "**Insights**\n",
    "- For the Experiment 2: Simple imputer with median strategy has Catboost classifier as the best Model\n",
    "- Proceeding with further experiments "
   ]
  },
  {
   "cell_type": "markdown",
   "id": "a13295f3",
   "metadata": {},
   "source": [
    "### Experiment: 3 = MICE for Imputing Null values"
   ]
  },
  {
   "cell_type": "markdown",
   "id": "5fe6338c",
   "metadata": {},
   "source": [
    "- MICE stands for Multivariate Imputation By Chained Equations algorithm\n",
    "- This technique by which we can effortlessly impute missing values in a dataset by looking at data from other columns and trying to estimate the best prediction for each missing value.\n",
    "- `ImputationKernel` Creates a kernel dataset. This dataset can perform MICE on itself, and impute new data from models obtained during MICE."
   ]
  },
  {
   "cell_type": "code",
   "execution_count": 32,
   "id": "81d6e0a8",
   "metadata": {},
   "outputs": [],
   "source": [
    "import miceforest as mf\n",
    "\n",
    "X_mice = X.copy()\n",
    "kernel = mf.ImputationKernel(\n",
    "  X_mice,\n",
    "  save_all_iterations=True,\n",
    "  random_state=1989\n",
    ")# Run the MICE algorithm for 3 iterations kernel.mice(3)"
   ]
  },
  {
   "cell_type": "code",
   "execution_count": 33,
   "id": "5b51a19a",
   "metadata": {},
   "outputs": [],
   "source": [
    "X_mice = kernel.complete_data()"
   ]
  },
  {
   "cell_type": "code",
   "execution_count": 34,
   "id": "3be27ccf",
   "metadata": {},
   "outputs": [],
   "source": [
    "# fit robust scaler\n",
    "mice_pipeline = Pipeline(steps=[\n",
    "    ('RobustScaler', RobustScaler())\n",
    "])"
   ]
  },
  {
   "cell_type": "code",
   "execution_count": 35,
   "id": "dda0ba8d",
   "metadata": {},
   "outputs": [],
   "source": [
    "# Fit X with Mice imputer \n",
    "X_mice= mice_pipeline.fit_transform(X_mice)"
   ]
  },
  {
   "cell_type": "code",
   "execution_count": 36,
   "id": "e7003e18",
   "metadata": {},
   "outputs": [
    {
     "name": "stderr",
     "output_type": "stream",
     "text": [
      "C:\\Users\\prash\\anaconda3\\Lib\\site-packages\\imblearn\\over_sampling\\_smote\\base.py:370: FutureWarning: The parameter `n_jobs` has been deprecated in 0.10 and will be removed in 0.12. You can pass an nearest neighbors estimator where `n_jobs` is already set instead.\n",
      "  warnings.warn(\n"
     ]
    }
   ],
   "source": [
    "# Resampling the minority class. The strategy can be changed as required.\n",
    "smt = SMOTETomek(random_state=42,sampling_strategy='minority', n_jobs=-1 )\n",
    "# Fit the model to generate the data.\n",
    "X_res, y_res = smt.fit_resample(X_mice, y)"
   ]
  },
  {
   "cell_type": "code",
   "execution_count": 37,
   "id": "978ea93e",
   "metadata": {},
   "outputs": [
    {
     "name": "stdout",
     "output_type": "stream",
     "text": [
      "Random Forest\n",
      "Model performance for Training set\n",
      "- Accuracy: 1.0000\n",
      "- F1 score: 1.0000\n",
      "- Precision: 1.0000\n",
      "- Recall: 1.0000\n",
      "- Roc Auc Score: 1.0000\n",
      "- COST: 0.\n",
      "----------------------------------\n",
      "Model performance for Test set\n",
      "- Accuracy: 0.9896\n",
      "- F1 score: 0.9895\n",
      "- Precision: 0.9835\n",
      "- Recall: 0.9957\n",
      "- Roc Auc Score: 0.9897\n",
      "- COST: 16160.\n",
      "===================================\n",
      "\n",
      "\n",
      "Decision Tree\n",
      "Model performance for Training set\n",
      "- Accuracy: 1.0000\n",
      "- F1 score: 1.0000\n",
      "- Precision: 1.0000\n",
      "- Recall: 1.0000\n",
      "- Roc Auc Score: 1.0000\n",
      "- COST: 0.\n",
      "----------------------------------\n",
      "Model performance for Test set\n",
      "- Accuracy: 0.9824\n",
      "- F1 score: 0.9823\n",
      "- Precision: 0.9769\n",
      "- Recall: 0.9877\n",
      "- Roc Auc Score: 0.9824\n",
      "- COST: 44120.\n",
      "===================================\n",
      "\n",
      "\n"
     ]
    },
    {
     "name": "stderr",
     "output_type": "stream",
     "text": [
      "C:\\Users\\prash\\anaconda3\\Lib\\site-packages\\sklearn\\linear_model\\_logistic.py:469: ConvergenceWarning: lbfgs failed to converge (status=1):\n",
      "STOP: TOTAL NO. of ITERATIONS REACHED LIMIT.\n",
      "\n",
      "Increase the number of iterations (max_iter) or scale the data as shown in:\n",
      "    https://scikit-learn.org/stable/modules/preprocessing.html\n",
      "Please also refer to the documentation for alternative solver options:\n",
      "    https://scikit-learn.org/stable/modules/linear_model.html#logistic-regression\n",
      "  n_iter_i = _check_optimize_result(\n"
     ]
    },
    {
     "name": "stdout",
     "output_type": "stream",
     "text": [
      "Logistic Regression\n",
      "Model performance for Training set\n",
      "- Accuracy: 0.6045\n",
      "- F1 score: 0.7074\n",
      "- Precision: 0.5623\n",
      "- Recall: 0.9535\n",
      "- Roc Auc Score: 0.6036\n",
      "- COST: 862260.\n",
      "----------------------------------\n",
      "Model performance for Test set\n",
      "- Accuracy: 0.6008\n",
      "- F1 score: 0.7025\n",
      "- Precision: 0.5563\n",
      "- Recall: 0.9529\n",
      "- Roc Auc Score: 0.6044\n",
      "- COST: 216220.\n",
      "===================================\n",
      "\n",
      "\n",
      "K-Neighbors Classifier\n",
      "Model performance for Training set\n",
      "- Accuracy: 0.9796\n",
      "- F1 score: 0.9799\n",
      "- Precision: 0.9684\n",
      "- Recall: 0.9917\n",
      "- Roc Auc Score: 0.9796\n",
      "- COST: 126110.\n",
      "----------------------------------\n",
      "Model performance for Test set\n",
      "- Accuracy: 0.9662\n",
      "- F1 score: 0.9665\n",
      "- Precision: 0.9471\n",
      "- Recall: 0.9867\n",
      "- Roc Auc Score: 0.9664\n",
      "- COST: 49820.\n",
      "===================================\n",
      "\n",
      "\n",
      "Gradient Boosting\n",
      "Model performance for Training set\n",
      "- Accuracy: 0.9858\n",
      "- F1 score: 0.9859\n",
      "- Precision: 0.9835\n",
      "- Recall: 0.9882\n",
      "- Roc Auc Score: 0.9858\n",
      "- COST: 170160.\n",
      "----------------------------------\n",
      "Model performance for Test set\n",
      "- Accuracy: 0.9802\n",
      "- F1 score: 0.9802\n",
      "- Precision: 0.9740\n",
      "- Recall: 0.9865\n",
      "- Roc Auc Score: 0.9803\n",
      "- COST: 48830.\n",
      "===================================\n",
      "\n",
      "\n",
      "XGBClassifier\n",
      "Model performance for Training set\n",
      "- Accuracy: 1.0000\n",
      "- F1 score: 1.0000\n",
      "- Precision: 1.0000\n",
      "- Recall: 1.0000\n",
      "- Roc Auc Score: 1.0000\n",
      "- COST: 0.\n",
      "----------------------------------\n",
      "Model performance for Test set\n",
      "- Accuracy: 0.9943\n",
      "- F1 score: 0.9943\n",
      "- Precision: 0.9899\n",
      "- Recall: 0.9987\n",
      "- Roc Auc Score: 0.9943\n",
      "- COST: 5210.\n",
      "===================================\n",
      "\n",
      "\n",
      "CatBoosting Classifier\n",
      "Model performance for Training set\n",
      "- Accuracy: 0.9992\n",
      "- F1 score: 0.9992\n",
      "- Precision: 0.9994\n",
      "- Recall: 0.9991\n",
      "- Roc Auc Score: 0.9992\n",
      "- COST: 13180.\n",
      "----------------------------------\n",
      "Model performance for Test set\n",
      "- Accuracy: 0.9926\n",
      "- F1 score: 0.9925\n",
      "- Precision: 0.9879\n",
      "- Recall: 0.9973\n",
      "- Roc Auc Score: 0.9926\n",
      "- COST: 10350.\n",
      "===================================\n",
      "\n",
      "\n"
     ]
    },
    {
     "name": "stderr",
     "output_type": "stream",
     "text": [
      "C:\\Users\\prash\\anaconda3\\Lib\\site-packages\\sklearn\\ensemble\\_weight_boosting.py:527: FutureWarning: The SAMME.R algorithm (the default) is deprecated and will be removed in 1.6. Use the SAMME algorithm to circumvent this warning.\n",
      "  warnings.warn(\n"
     ]
    },
    {
     "name": "stdout",
     "output_type": "stream",
     "text": [
      "AdaBoost Classifier\n",
      "Model performance for Training set\n",
      "- Accuracy: 0.9773\n",
      "- F1 score: 0.9774\n",
      "- Precision: 0.9767\n",
      "- Recall: 0.9781\n",
      "- Roc Auc Score: 0.9773\n",
      "- COST: 314570.\n",
      "----------------------------------\n",
      "Model performance for Test set\n",
      "- Accuracy: 0.9746\n",
      "- F1 score: 0.9744\n",
      "- Precision: 0.9712\n",
      "- Recall: 0.9777\n",
      "- Roc Auc Score: 0.9746\n",
      "- COST: 79510.\n",
      "===================================\n",
      "\n",
      "\n"
     ]
    }
   ],
   "source": [
    "# Training the models\n",
    "report_mice = evaluate_models(X_res, y_res, models)"
   ]
  },
  {
   "cell_type": "markdown",
   "id": "d1b07eff",
   "metadata": {},
   "source": [
    "## Report for MICE Imputer algorithm"
   ]
  },
  {
   "cell_type": "code",
   "execution_count": 38,
   "id": "8be60c9d",
   "metadata": {},
   "outputs": [
    {
     "data": {
      "text/html": [
       "<div>\n",
       "<style scoped>\n",
       "    .dataframe tbody tr th:only-of-type {\n",
       "        vertical-align: middle;\n",
       "    }\n",
       "\n",
       "    .dataframe tbody tr th {\n",
       "        vertical-align: top;\n",
       "    }\n",
       "\n",
       "    .dataframe thead th {\n",
       "        text-align: right;\n",
       "    }\n",
       "</style>\n",
       "<table border=\"1\" class=\"dataframe\">\n",
       "  <thead>\n",
       "    <tr style=\"text-align: right;\">\n",
       "      <th></th>\n",
       "      <th>Model Name</th>\n",
       "      <th>Cost</th>\n",
       "    </tr>\n",
       "  </thead>\n",
       "  <tbody>\n",
       "    <tr>\n",
       "      <th>5</th>\n",
       "      <td>XGBClassifier</td>\n",
       "      <td>5210</td>\n",
       "    </tr>\n",
       "    <tr>\n",
       "      <th>6</th>\n",
       "      <td>CatBoosting Classifier</td>\n",
       "      <td>10350</td>\n",
       "    </tr>\n",
       "    <tr>\n",
       "      <th>0</th>\n",
       "      <td>Random Forest</td>\n",
       "      <td>16160</td>\n",
       "    </tr>\n",
       "    <tr>\n",
       "      <th>1</th>\n",
       "      <td>Decision Tree</td>\n",
       "      <td>44120</td>\n",
       "    </tr>\n",
       "    <tr>\n",
       "      <th>4</th>\n",
       "      <td>Gradient Boosting</td>\n",
       "      <td>48830</td>\n",
       "    </tr>\n",
       "    <tr>\n",
       "      <th>3</th>\n",
       "      <td>K-Neighbors Classifier</td>\n",
       "      <td>49820</td>\n",
       "    </tr>\n",
       "    <tr>\n",
       "      <th>7</th>\n",
       "      <td>AdaBoost Classifier</td>\n",
       "      <td>79510</td>\n",
       "    </tr>\n",
       "    <tr>\n",
       "      <th>2</th>\n",
       "      <td>Logistic Regression</td>\n",
       "      <td>216220</td>\n",
       "    </tr>\n",
       "  </tbody>\n",
       "</table>\n",
       "</div>"
      ],
      "text/plain": [
       "               Model Name    Cost\n",
       "5           XGBClassifier    5210\n",
       "6  CatBoosting Classifier   10350\n",
       "0           Random Forest   16160\n",
       "1           Decision Tree   44120\n",
       "4       Gradient Boosting   48830\n",
       "3  K-Neighbors Classifier   49820\n",
       "7     AdaBoost Classifier   79510\n",
       "2     Logistic Regression  216220"
      ]
     },
     "execution_count": 38,
     "metadata": {},
     "output_type": "execute_result"
    }
   ],
   "source": [
    "report_mice"
   ]
  },
  {
   "cell_type": "markdown",
   "id": "db50e094",
   "metadata": {},
   "source": [
    "**Insights**\n",
    "- For the Experiment 3: Mice imputer has XGBoost classifier as the best Model\n",
    "- Proceeding with further experiments "
   ]
  },
  {
   "cell_type": "markdown",
   "id": "7fcabe8f",
   "metadata": {},
   "source": [
    "### Experiment: 4 = Simple Imputer with Strategy Constant "
   ]
  },
  {
   "cell_type": "markdown",
   "id": "1579f456",
   "metadata": {},
   "source": [
    "- Another strategy which can be used is replacing missing values with a fixed (constant) value.\n",
    "- To do this, specify “constant” for strategy and specify the fill value using the fill_value parameter"
   ]
  },
  {
   "cell_type": "code",
   "execution_count": 39,
   "id": "dc61186b",
   "metadata": {},
   "outputs": [],
   "source": [
    "# Create a pipeline with simple imputer with strategy constant and fill value 0\n",
    "constant_pipeline = Pipeline(steps=[\n",
    "    ('Imputer', SimpleImputer(strategy='constant', fill_value=0)),\n",
    "    ('RobustScaler', RobustScaler())\n",
    "])"
   ]
  },
  {
   "cell_type": "code",
   "execution_count": 40,
   "id": "f80e228d",
   "metadata": {},
   "outputs": [],
   "source": [
    "X_const =constant_pipeline.fit_transform(X)"
   ]
  },
  {
   "cell_type": "code",
   "execution_count": 41,
   "id": "987ab761",
   "metadata": {},
   "outputs": [
    {
     "name": "stderr",
     "output_type": "stream",
     "text": [
      "C:\\Users\\prash\\anaconda3\\Lib\\site-packages\\imblearn\\over_sampling\\_smote\\base.py:370: FutureWarning: The parameter `n_jobs` has been deprecated in 0.10 and will be removed in 0.12. You can pass an nearest neighbors estimator where `n_jobs` is already set instead.\n",
      "  warnings.warn(\n"
     ]
    }
   ],
   "source": [
    "# Resampling the minority class. The strategy can be changed as required.\n",
    "smt = SMOTETomek(random_state=42,sampling_strategy='minority', n_jobs=-1 )\n",
    "# Fit the model to generate the data.\n",
    "X_res, y_res = smt.fit_resample(X_const, y)"
   ]
  },
  {
   "cell_type": "code",
   "execution_count": 42,
   "id": "96e01269",
   "metadata": {},
   "outputs": [
    {
     "name": "stdout",
     "output_type": "stream",
     "text": [
      "Random Forest\n",
      "Model performance for Training set\n",
      "- Accuracy: 1.0000\n",
      "- F1 score: 1.0000\n",
      "- Precision: 1.0000\n",
      "- Recall: 1.0000\n",
      "- Roc Auc Score: 1.0000\n",
      "- COST: 0.\n",
      "----------------------------------\n",
      "Model performance for Test set\n",
      "- Accuracy: 0.9927\n",
      "- F1 score: 0.9928\n",
      "- Precision: 0.9894\n",
      "- Recall: 0.9962\n",
      "- Roc Auc Score: 0.9927\n",
      "- COST: 14250.\n",
      "===================================\n",
      "\n",
      "\n",
      "Decision Tree\n",
      "Model performance for Training set\n",
      "- Accuracy: 1.0000\n",
      "- F1 score: 1.0000\n",
      "- Precision: 1.0000\n",
      "- Recall: 1.0000\n",
      "- Roc Auc Score: 1.0000\n",
      "- COST: 0.\n",
      "----------------------------------\n",
      "Model performance for Test set\n",
      "- Accuracy: 0.9873\n",
      "- F1 score: 0.9874\n",
      "- Precision: 0.9821\n",
      "- Recall: 0.9927\n",
      "- Roc Auc Score: 0.9873\n",
      "- COST: 26770.\n",
      "===================================\n",
      "\n",
      "\n"
     ]
    },
    {
     "name": "stderr",
     "output_type": "stream",
     "text": [
      "C:\\Users\\prash\\anaconda3\\Lib\\site-packages\\sklearn\\linear_model\\_logistic.py:469: ConvergenceWarning: lbfgs failed to converge (status=1):\n",
      "STOP: TOTAL NO. of ITERATIONS REACHED LIMIT.\n",
      "\n",
      "Increase the number of iterations (max_iter) or scale the data as shown in:\n",
      "    https://scikit-learn.org/stable/modules/preprocessing.html\n",
      "Please also refer to the documentation for alternative solver options:\n",
      "    https://scikit-learn.org/stable/modules/linear_model.html#logistic-regression\n",
      "  n_iter_i = _check_optimize_result(\n"
     ]
    },
    {
     "name": "stdout",
     "output_type": "stream",
     "text": [
      "Logistic Regression\n",
      "Model performance for Training set\n",
      "- Accuracy: 0.6718\n",
      "- F1 score: 0.7487\n",
      "- Precision: 0.6063\n",
      "- Recall: 0.9784\n",
      "- Roc Auc Score: 0.6720\n",
      "- COST: 481090.\n",
      "----------------------------------\n",
      "Model performance for Test set\n",
      "- Accuracy: 0.6711\n",
      "- F1 score: 0.7493\n",
      "- Precision: 0.6065\n",
      "- Recall: 0.9800\n",
      "- Roc Auc Score: 0.6702\n",
      "- COST: 115220.\n",
      "===================================\n",
      "\n",
      "\n",
      "K-Neighbors Classifier\n",
      "Model performance for Training set\n",
      "- Accuracy: 0.9803\n",
      "- F1 score: 0.9806\n",
      "- Precision: 0.9683\n",
      "- Recall: 0.9932\n",
      "- Roc Auc Score: 0.9803\n",
      "- COST: 105110.\n",
      "----------------------------------\n",
      "Model performance for Test set\n",
      "- Accuracy: 0.9750\n",
      "- F1 score: 0.9754\n",
      "- Precision: 0.9626\n",
      "- Recall: 0.9885\n",
      "- Roc Auc Score: 0.9749\n",
      "- COST: 43200.\n",
      "===================================\n",
      "\n",
      "\n",
      "Gradient Boosting\n",
      "Model performance for Training set\n",
      "- Accuracy: 0.9827\n",
      "- F1 score: 0.9827\n",
      "- Precision: 0.9804\n",
      "- Recall: 0.9851\n",
      "- Roc Auc Score: 0.9827\n",
      "- COST: 214530.\n",
      "----------------------------------\n",
      "Model performance for Test set\n",
      "- Accuracy: 0.9801\n",
      "- F1 score: 0.9802\n",
      "- Precision: 0.9774\n",
      "- Recall: 0.9831\n",
      "- Roc Auc Score: 0.9801\n",
      "- COST: 61100.\n",
      "===================================\n",
      "\n",
      "\n",
      "XGBClassifier\n",
      "Model performance for Training set\n",
      "- Accuracy: 1.0000\n",
      "- F1 score: 1.0000\n",
      "- Precision: 1.0000\n",
      "- Recall: 1.0000\n",
      "- Roc Auc Score: 1.0000\n",
      "- COST: 0.\n",
      "----------------------------------\n",
      "Model performance for Test set\n",
      "- Accuracy: 0.9968\n",
      "- F1 score: 0.9968\n",
      "- Precision: 0.9942\n",
      "- Recall: 0.9994\n",
      "- Roc Auc Score: 0.9968\n",
      "- COST: 2410.\n",
      "===================================\n",
      "\n",
      "\n",
      "CatBoosting Classifier\n",
      "Model performance for Training set\n",
      "- Accuracy: 0.9993\n",
      "- F1 score: 0.9993\n",
      "- Precision: 0.9992\n",
      "- Recall: 0.9993\n",
      "- Roc Auc Score: 0.9993\n",
      "- COST: 9730.\n",
      "----------------------------------\n",
      "Model performance for Test set\n",
      "- Accuracy: 0.9956\n",
      "- F1 score: 0.9956\n",
      "- Precision: 0.9925\n",
      "- Recall: 0.9987\n",
      "- Roc Auc Score: 0.9956\n",
      "- COST: 5030.\n",
      "===================================\n",
      "\n",
      "\n"
     ]
    },
    {
     "name": "stderr",
     "output_type": "stream",
     "text": [
      "C:\\Users\\prash\\anaconda3\\Lib\\site-packages\\sklearn\\ensemble\\_weight_boosting.py:527: FutureWarning: The SAMME.R algorithm (the default) is deprecated and will be removed in 1.6. Use the SAMME algorithm to circumvent this warning.\n",
      "  warnings.warn(\n"
     ]
    },
    {
     "name": "stdout",
     "output_type": "stream",
     "text": [
      "AdaBoost Classifier\n",
      "Model performance for Training set\n",
      "- Accuracy: 0.9752\n",
      "- F1 score: 0.9752\n",
      "- Precision: 0.9727\n",
      "- Recall: 0.9778\n",
      "- Roc Auc Score: 0.9752\n",
      "- COST: 319200.\n",
      "----------------------------------\n",
      "Model performance for Test set\n",
      "- Accuracy: 0.9752\n",
      "- F1 score: 0.9753\n",
      "- Precision: 0.9732\n",
      "- Recall: 0.9774\n",
      "- Roc Auc Score: 0.9752\n",
      "- COST: 81390.\n",
      "===================================\n",
      "\n",
      "\n"
     ]
    }
   ],
   "source": [
    "# training the models\n",
    "report_const = evaluate_models(X_res, y_res, models)"
   ]
  },
  {
   "cell_type": "markdown",
   "id": "647f783f",
   "metadata": {},
   "source": [
    "## Report for Simple Imputer with Constant strategy"
   ]
  },
  {
   "cell_type": "code",
   "execution_count": 43,
   "id": "f257fa9e",
   "metadata": {},
   "outputs": [
    {
     "data": {
      "text/html": [
       "<div>\n",
       "<style scoped>\n",
       "    .dataframe tbody tr th:only-of-type {\n",
       "        vertical-align: middle;\n",
       "    }\n",
       "\n",
       "    .dataframe tbody tr th {\n",
       "        vertical-align: top;\n",
       "    }\n",
       "\n",
       "    .dataframe thead th {\n",
       "        text-align: right;\n",
       "    }\n",
       "</style>\n",
       "<table border=\"1\" class=\"dataframe\">\n",
       "  <thead>\n",
       "    <tr style=\"text-align: right;\">\n",
       "      <th></th>\n",
       "      <th>Model Name</th>\n",
       "      <th>Cost</th>\n",
       "    </tr>\n",
       "  </thead>\n",
       "  <tbody>\n",
       "    <tr>\n",
       "      <th>5</th>\n",
       "      <td>XGBClassifier</td>\n",
       "      <td>2410</td>\n",
       "    </tr>\n",
       "    <tr>\n",
       "      <th>6</th>\n",
       "      <td>CatBoosting Classifier</td>\n",
       "      <td>5030</td>\n",
       "    </tr>\n",
       "    <tr>\n",
       "      <th>0</th>\n",
       "      <td>Random Forest</td>\n",
       "      <td>14250</td>\n",
       "    </tr>\n",
       "    <tr>\n",
       "      <th>1</th>\n",
       "      <td>Decision Tree</td>\n",
       "      <td>26770</td>\n",
       "    </tr>\n",
       "    <tr>\n",
       "      <th>3</th>\n",
       "      <td>K-Neighbors Classifier</td>\n",
       "      <td>43200</td>\n",
       "    </tr>\n",
       "    <tr>\n",
       "      <th>4</th>\n",
       "      <td>Gradient Boosting</td>\n",
       "      <td>61100</td>\n",
       "    </tr>\n",
       "    <tr>\n",
       "      <th>7</th>\n",
       "      <td>AdaBoost Classifier</td>\n",
       "      <td>81390</td>\n",
       "    </tr>\n",
       "    <tr>\n",
       "      <th>2</th>\n",
       "      <td>Logistic Regression</td>\n",
       "      <td>115220</td>\n",
       "    </tr>\n",
       "  </tbody>\n",
       "</table>\n",
       "</div>"
      ],
      "text/plain": [
       "               Model Name    Cost\n",
       "5           XGBClassifier    2410\n",
       "6  CatBoosting Classifier    5030\n",
       "0           Random Forest   14250\n",
       "1           Decision Tree   26770\n",
       "3  K-Neighbors Classifier   43200\n",
       "4       Gradient Boosting   61100\n",
       "7     AdaBoost Classifier   81390\n",
       "2     Logistic Regression  115220"
      ]
     },
     "execution_count": 43,
     "metadata": {},
     "output_type": "execute_result"
    }
   ],
   "source": [
    "report_const"
   ]
  },
  {
   "cell_type": "markdown",
   "id": "bc6f8e14",
   "metadata": {},
   "source": [
    "**Insights**\n",
    "- For the Experiment 4: Simple imputer with constant strategy has XGBoost classifier as the best Model\n",
    "- Proceeding with further experiments "
   ]
  },
  {
   "cell_type": "markdown",
   "id": "e5e53d76",
   "metadata": {},
   "source": [
    "## Experiment: 5 = Simple Imputer with Strategy Mean \n",
    "\n",
    "- Another strategy which can be used is replacing missing values with mean\n",
    "- Here we replace the missing values with the mean of the column"
   ]
  },
  {
   "cell_type": "code",
   "execution_count": 44,
   "id": "ea3d2ae9",
   "metadata": {},
   "outputs": [],
   "source": [
    "# Create a pipeline with Simple imputer with strategy mean\n",
    "mean_pipeline = Pipeline(steps=[\n",
    "    ('Imputer', SimpleImputer(strategy='mean')),\n",
    "    ('RobustScaler', RobustScaler())\n",
    "])"
   ]
  },
  {
   "cell_type": "code",
   "execution_count": 45,
   "id": "340dc7fc",
   "metadata": {},
   "outputs": [],
   "source": [
    "X_mean = mean_pipeline.fit_transform(X)"
   ]
  },
  {
   "cell_type": "code",
   "execution_count": 46,
   "id": "dcfbb5c5",
   "metadata": {},
   "outputs": [
    {
     "name": "stderr",
     "output_type": "stream",
     "text": [
      "C:\\Users\\prash\\anaconda3\\Lib\\site-packages\\imblearn\\over_sampling\\_smote\\base.py:370: FutureWarning: The parameter `n_jobs` has been deprecated in 0.10 and will be removed in 0.12. You can pass an nearest neighbors estimator where `n_jobs` is already set instead.\n",
      "  warnings.warn(\n"
     ]
    }
   ],
   "source": [
    "# Resampling the minority class. The strategy can be changed as required.\n",
    "smt = SMOTETomek(random_state=42,sampling_strategy='minority' , n_jobs=-1)\n",
    "# Fit the model to generate the data.\n",
    "X_res, y_res = smt.fit_resample(X_mean, y)"
   ]
  },
  {
   "cell_type": "code",
   "execution_count": 47,
   "id": "78f3ec9a",
   "metadata": {
    "scrolled": true
   },
   "outputs": [
    {
     "name": "stdout",
     "output_type": "stream",
     "text": [
      "Random Forest\n",
      "Model performance for Training set\n",
      "- Accuracy: 1.0000\n",
      "- F1 score: 1.0000\n",
      "- Precision: 1.0000\n",
      "- Recall: 1.0000\n",
      "- Roc Auc Score: 1.0000\n",
      "- COST: 0.\n",
      "----------------------------------\n",
      "Model performance for Test set\n",
      "- Accuracy: 0.9931\n",
      "- F1 score: 0.9931\n",
      "- Precision: 0.9886\n",
      "- Recall: 0.9977\n",
      "- Roc Auc Score: 0.9931\n",
      "- COST: 8810.\n",
      "===================================\n",
      "\n",
      "\n",
      "Decision Tree\n",
      "Model performance for Training set\n",
      "- Accuracy: 1.0000\n",
      "- F1 score: 1.0000\n",
      "- Precision: 1.0000\n",
      "- Recall: 1.0000\n",
      "- Roc Auc Score: 1.0000\n",
      "- COST: 0.\n",
      "----------------------------------\n",
      "Model performance for Test set\n",
      "- Accuracy: 0.9877\n",
      "- F1 score: 0.9878\n",
      "- Precision: 0.9842\n",
      "- Recall: 0.9915\n",
      "- Roc Auc Score: 0.9877\n",
      "- COST: 31120.\n",
      "===================================\n",
      "\n",
      "\n"
     ]
    },
    {
     "name": "stderr",
     "output_type": "stream",
     "text": [
      "C:\\Users\\prash\\anaconda3\\Lib\\site-packages\\sklearn\\linear_model\\_logistic.py:469: ConvergenceWarning: lbfgs failed to converge (status=1):\n",
      "STOP: TOTAL NO. of ITERATIONS REACHED LIMIT.\n",
      "\n",
      "Increase the number of iterations (max_iter) or scale the data as shown in:\n",
      "    https://scikit-learn.org/stable/modules/preprocessing.html\n",
      "Please also refer to the documentation for alternative solver options:\n",
      "    https://scikit-learn.org/stable/modules/linear_model.html#logistic-regression\n",
      "  n_iter_i = _check_optimize_result(\n"
     ]
    },
    {
     "name": "stdout",
     "output_type": "stream",
     "text": [
      "Logistic Regression\n",
      "Model performance for Training set\n",
      "- Accuracy: 0.6637\n",
      "- F1 score: 0.7318\n",
      "- Precision: 0.6085\n",
      "- Recall: 0.9178\n",
      "- Roc Auc Score: 0.6637\n",
      "- COST: 1318200.\n",
      "----------------------------------\n",
      "Model performance for Test set\n",
      "- Accuracy: 0.6610\n",
      "- F1 score: 0.7299\n",
      "- Precision: 0.6068\n",
      "- Recall: 0.9157\n",
      "- Roc Auc Score: 0.6608\n",
      "- COST: 337650.\n",
      "===================================\n",
      "\n",
      "\n",
      "K-Neighbors Classifier\n",
      "Model performance for Training set\n",
      "- Accuracy: 0.9819\n",
      "- F1 score: 0.9821\n",
      "- Precision: 0.9722\n",
      "- Recall: 0.9922\n",
      "- Roc Auc Score: 0.9819\n",
      "- COST: 117460.\n",
      "----------------------------------\n",
      "Model performance for Test set\n",
      "- Accuracy: 0.9728\n",
      "- F1 score: 0.9731\n",
      "- Precision: 0.9606\n",
      "- Recall: 0.9860\n",
      "- Roc Auc Score: 0.9728\n",
      "- COST: 51840.\n",
      "===================================\n",
      "\n",
      "\n",
      "Gradient Boosting\n",
      "Model performance for Training set\n",
      "- Accuracy: 0.9862\n",
      "- F1 score: 0.9862\n",
      "- Precision: 0.9834\n",
      "- Recall: 0.9891\n",
      "- Roc Auc Score: 0.9862\n",
      "- COST: 158170.\n",
      "----------------------------------\n",
      "Model performance for Test set\n",
      "- Accuracy: 0.9827\n",
      "- F1 score: 0.9828\n",
      "- Precision: 0.9793\n",
      "- Recall: 0.9862\n",
      "- Roc Auc Score: 0.9827\n",
      "- COST: 49960.\n",
      "===================================\n",
      "\n",
      "\n",
      "XGBClassifier\n",
      "Model performance for Training set\n",
      "- Accuracy: 1.0000\n",
      "- F1 score: 1.0000\n",
      "- Precision: 1.0000\n",
      "- Recall: 1.0000\n",
      "- Roc Auc Score: 1.0000\n",
      "- COST: 500.\n",
      "----------------------------------\n",
      "Model performance for Test set\n",
      "- Accuracy: 0.9968\n",
      "- F1 score: 0.9968\n",
      "- Precision: 0.9943\n",
      "- Recall: 0.9993\n",
      "- Roc Auc Score: 0.9968\n",
      "- COST: 2900.\n",
      "===================================\n",
      "\n",
      "\n",
      "CatBoosting Classifier\n",
      "Model performance for Training set\n",
      "- Accuracy: 0.9993\n",
      "- F1 score: 0.9993\n",
      "- Precision: 0.9993\n",
      "- Recall: 0.9992\n",
      "- Roc Auc Score: 0.9993\n",
      "- COST: 11190.\n",
      "----------------------------------\n",
      "Model performance for Test set\n",
      "- Accuracy: 0.9958\n",
      "- F1 score: 0.9958\n",
      "- Precision: 0.9932\n",
      "- Recall: 0.9984\n",
      "- Roc Auc Score: 0.9958\n",
      "- COST: 5980.\n",
      "===================================\n",
      "\n",
      "\n"
     ]
    },
    {
     "name": "stderr",
     "output_type": "stream",
     "text": [
      "C:\\Users\\prash\\anaconda3\\Lib\\site-packages\\sklearn\\ensemble\\_weight_boosting.py:527: FutureWarning: The SAMME.R algorithm (the default) is deprecated and will be removed in 1.6. Use the SAMME algorithm to circumvent this warning.\n",
      "  warnings.warn(\n"
     ]
    },
    {
     "name": "stdout",
     "output_type": "stream",
     "text": [
      "AdaBoost Classifier\n",
      "Model performance for Training set\n",
      "- Accuracy: 0.9770\n",
      "- F1 score: 0.9769\n",
      "- Precision: 0.9772\n",
      "- Recall: 0.9767\n",
      "- Roc Auc Score: 0.9770\n",
      "- COST: 333880.\n",
      "----------------------------------\n",
      "Model performance for Test set\n",
      "- Accuracy: 0.9775\n",
      "- F1 score: 0.9775\n",
      "- Precision: 0.9780\n",
      "- Recall: 0.9769\n",
      "- Roc Auc Score: 0.9775\n",
      "- COST: 82540.\n",
      "===================================\n",
      "\n",
      "\n"
     ]
    }
   ],
   "source": [
    "# Training all models\n",
    "report_mean = evaluate_models(X_res, y_res, models)"
   ]
  },
  {
   "cell_type": "markdown",
   "id": "cd073457",
   "metadata": {},
   "source": [
    "### Report for Simple imputer with strategy mean"
   ]
  },
  {
   "cell_type": "code",
   "execution_count": 48,
   "id": "5f9814de",
   "metadata": {},
   "outputs": [
    {
     "data": {
      "text/html": [
       "<div>\n",
       "<style scoped>\n",
       "    .dataframe tbody tr th:only-of-type {\n",
       "        vertical-align: middle;\n",
       "    }\n",
       "\n",
       "    .dataframe tbody tr th {\n",
       "        vertical-align: top;\n",
       "    }\n",
       "\n",
       "    .dataframe thead th {\n",
       "        text-align: right;\n",
       "    }\n",
       "</style>\n",
       "<table border=\"1\" class=\"dataframe\">\n",
       "  <thead>\n",
       "    <tr style=\"text-align: right;\">\n",
       "      <th></th>\n",
       "      <th>Model Name</th>\n",
       "      <th>Cost</th>\n",
       "    </tr>\n",
       "  </thead>\n",
       "  <tbody>\n",
       "    <tr>\n",
       "      <th>5</th>\n",
       "      <td>XGBClassifier</td>\n",
       "      <td>2900</td>\n",
       "    </tr>\n",
       "    <tr>\n",
       "      <th>6</th>\n",
       "      <td>CatBoosting Classifier</td>\n",
       "      <td>5980</td>\n",
       "    </tr>\n",
       "    <tr>\n",
       "      <th>0</th>\n",
       "      <td>Random Forest</td>\n",
       "      <td>8810</td>\n",
       "    </tr>\n",
       "    <tr>\n",
       "      <th>1</th>\n",
       "      <td>Decision Tree</td>\n",
       "      <td>31120</td>\n",
       "    </tr>\n",
       "    <tr>\n",
       "      <th>4</th>\n",
       "      <td>Gradient Boosting</td>\n",
       "      <td>49960</td>\n",
       "    </tr>\n",
       "    <tr>\n",
       "      <th>3</th>\n",
       "      <td>K-Neighbors Classifier</td>\n",
       "      <td>51840</td>\n",
       "    </tr>\n",
       "    <tr>\n",
       "      <th>7</th>\n",
       "      <td>AdaBoost Classifier</td>\n",
       "      <td>82540</td>\n",
       "    </tr>\n",
       "    <tr>\n",
       "      <th>2</th>\n",
       "      <td>Logistic Regression</td>\n",
       "      <td>337650</td>\n",
       "    </tr>\n",
       "  </tbody>\n",
       "</table>\n",
       "</div>"
      ],
      "text/plain": [
       "               Model Name    Cost\n",
       "5           XGBClassifier    2900\n",
       "6  CatBoosting Classifier    5980\n",
       "0           Random Forest    8810\n",
       "1           Decision Tree   31120\n",
       "4       Gradient Boosting   49960\n",
       "3  K-Neighbors Classifier   51840\n",
       "7     AdaBoost Classifier   82540\n",
       "2     Logistic Regression  337650"
      ]
     },
     "execution_count": 48,
     "metadata": {},
     "output_type": "execute_result"
    }
   ],
   "source": [
    "report_mean"
   ]
  },
  {
   "cell_type": "markdown",
   "id": "3675469a",
   "metadata": {},
   "source": [
    "### Experiment: 5 = Principle component analysis with imputing mean"
   ]
  },
  {
   "cell_type": "markdown",
   "id": "a201f12e",
   "metadata": {},
   "source": [
    "- Principal component analysis is a technique for feature extraction — so it combines our input variables in a specific way, then we can drop the “least important” variables while still retaining the most valuable parts of all of the variables! \n",
    "- As the dataset has 164 columns we can try PCA and check our metrics Cost"
   ]
  },
  {
   "cell_type": "code",
   "execution_count": 49,
   "id": "b878552d",
   "metadata": {},
   "outputs": [],
   "source": [
    "from sklearn.decomposition import PCA"
   ]
  },
  {
   "cell_type": "code",
   "execution_count": 50,
   "id": "a4a86408",
   "metadata": {},
   "outputs": [],
   "source": [
    "pca_pipeline = Pipeline(steps=[\n",
    "    ('Imputer', SimpleImputer(strategy='constant', fill_value=0)),\n",
    "    ('RobustScaler', RobustScaler())\n",
    "])"
   ]
  },
  {
   "cell_type": "code",
   "execution_count": 51,
   "id": "1978fbc2",
   "metadata": {},
   "outputs": [],
   "source": [
    "X_pca = pca_pipeline.fit_transform(X)"
   ]
  },
  {
   "cell_type": "code",
   "execution_count": 52,
   "id": "14348b88",
   "metadata": {},
   "outputs": [],
   "source": [
    "\n",
    "# Assuming X_pca is your dataset\n",
    "n_samples, n_features = X_pca.shape\n",
    "var_ratio = {}\n",
    "\n",
    "for n in range(2, 150):\n",
    "    if n > min(n_samples, n_features):\n",
    "        break\n",
    "    pc = PCA(n_components=n)\n",
    "    df_pca = pc.fit(X_pca)\n",
    "    var_ratio[n] = sum(df_pca.explained_variance_ratio_)"
   ]
  },
  {
   "cell_type": "markdown",
   "id": "405343a0",
   "metadata": {},
   "source": [
    "**Variance Plot**"
   ]
  },
  {
   "cell_type": "code",
   "execution_count": 53,
   "id": "a8e0d3ef",
   "metadata": {},
   "outputs": [
    {
     "data": {
      "text/plain": [
       "<Axes: >"
      ]
     },
     "execution_count": 53,
     "metadata": {},
     "output_type": "execute_result"
    },
    {
     "data": {
      "image/png": "[encoded data removed]",
      "text/plain": [
       "<Figure size 640x480 with 1 Axes>"
      ]
     },
     "metadata": {},
     "output_type": "display_data"
    }
   ],
   "source": [
    "# plotting variance ratio\n",
    "pd.Series(var_ratio).plot()"
   ]
  },
  {
   "cell_type": "markdown",
   "id": "e983126f",
   "metadata": {},
   "source": [
    "**Kneed algorithm to find the elbow point**"
   ]
  },
  {
   "cell_type": "code",
   "execution_count": 54,
   "id": "ca598bed",
   "metadata": {},
   "outputs": [
    {
     "data": {
      "text/plain": [
       "<Figure size 500x500 with 0 Axes>"
      ]
     },
     "metadata": {},
     "output_type": "display_data"
    },
    {
     "data": {
      "image/png": "[encoded data removed]",
      "text/plain": [
       "<Figure size 600x600 with 1 Axes>"
      ]
     },
     "metadata": {},
     "output_type": "display_data"
    },
    {
     "name": "stdout",
     "output_type": "stream",
     "text": [
      "Knee Locator k = 18\n"
     ]
    }
   ],
   "source": [
    "from kneed import KneeLocator\n",
    "\n",
    "i = np.arange(len(var_ratio))\n",
    "variance_ratio= list(var_ratio.values())\n",
    "components=  list(var_ratio.keys())\n",
    "knee = KneeLocator(i, variance_ratio, S=1, curve='concave', interp_method='polynomial')\n",
    "\n",
    "fig = plt.figure(figsize=(5, 5))\n",
    "knee.plot_knee()\n",
    "plt.xlabel(\"Points\")\n",
    "plt.ylabel(\"Distance\")\n",
    "plt.show()\n",
    "k= components[knee.knee]\n",
    "print('Knee Locator k =', k)"
   ]
  },
  {
   "cell_type": "code",
   "execution_count": 55,
   "id": "26e2fc07",
   "metadata": {},
   "outputs": [],
   "source": [
    "# Reducing the dimensions of the data \n",
    "pca_final=PCA(n_components=18,random_state=42).fit(X_res)\n",
    "\n",
    "reduced=pca_final.fit_transform(X_pca)"
   ]
  },
  {
   "cell_type": "code",
   "execution_count": 56,
   "id": "ffe6258b",
   "metadata": {},
   "outputs": [
    {
     "name": "stderr",
     "output_type": "stream",
     "text": [
      "C:\\Users\\prash\\anaconda3\\Lib\\site-packages\\imblearn\\over_sampling\\_smote\\base.py:370: FutureWarning: The parameter `n_jobs` has been deprecated in 0.10 and will be removed in 0.12. You can pass an nearest neighbors estimator where `n_jobs` is already set instead.\n",
      "  warnings.warn(\n"
     ]
    }
   ],
   "source": [
    "# Resampling the minority class. The strategy can be changed as required.\n",
    "smt = SMOTETomek(random_state=42,sampling_strategy='minority', n_jobs=-1)\n",
    "# Fit the model to generate the data.\n",
    "X_res, y_res = smt.fit_resample(reduced, y)"
   ]
  },
  {
   "cell_type": "code",
   "execution_count": 57,
   "id": "6ce3d721",
   "metadata": {},
   "outputs": [
    {
     "name": "stdout",
     "output_type": "stream",
     "text": [
      "Random Forest\n",
      "Model performance for Training set\n",
      "- Accuracy: 0.9987\n",
      "- F1 score: 0.9987\n",
      "- Precision: 1.0000\n",
      "- Recall: 0.9975\n",
      "- Roc Auc Score: 0.9987\n",
      "- COST: 34510.\n",
      "----------------------------------\n",
      "Model performance for Test set\n",
      "- Accuracy: 0.9828\n",
      "- F1 score: 0.9831\n",
      "- Precision: 0.9771\n",
      "- Recall: 0.9892\n",
      "- Roc Auc Score: 0.9828\n",
      "- COST: 39640.\n",
      "===================================\n",
      "\n",
      "\n",
      "Decision Tree\n",
      "Model performance for Training set\n",
      "- Accuracy: 0.9988\n",
      "- F1 score: 0.9988\n",
      "- Precision: 1.0000\n",
      "- Recall: 0.9975\n",
      "- Roc Auc Score: 0.9988\n",
      "- COST: 34500.\n",
      "----------------------------------\n",
      "Model performance for Test set\n",
      "- Accuracy: 0.9725\n",
      "- F1 score: 0.9729\n",
      "- Precision: 0.9683\n",
      "- Recall: 0.9775\n",
      "- Roc Auc Score: 0.9724\n",
      "- COST: 81760.\n",
      "===================================\n",
      "\n",
      "\n"
     ]
    },
    {
     "name": "stderr",
     "output_type": "stream",
     "text": [
      "C:\\Users\\prash\\anaconda3\\Lib\\site-packages\\sklearn\\linear_model\\_logistic.py:469: ConvergenceWarning: lbfgs failed to converge (status=1):\n",
      "STOP: TOTAL NO. of ITERATIONS REACHED LIMIT.\n",
      "\n",
      "Increase the number of iterations (max_iter) or scale the data as shown in:\n",
      "    https://scikit-learn.org/stable/modules/preprocessing.html\n",
      "Please also refer to the documentation for alternative solver options:\n",
      "    https://scikit-learn.org/stable/modules/linear_model.html#logistic-regression\n",
      "  n_iter_i = _check_optimize_result(\n"
     ]
    },
    {
     "name": "stdout",
     "output_type": "stream",
     "text": [
      "Logistic Regression\n",
      "Model performance for Training set\n",
      "- Accuracy: 0.8772\n",
      "- F1 score: 0.8668\n",
      "- Precision: 0.9440\n",
      "- Recall: 0.8013\n",
      "- Roc Auc Score: 0.8770\n",
      "- COST: 2785260.\n",
      "----------------------------------\n",
      "Model performance for Test set\n",
      "- Accuracy: 0.8794\n",
      "- F1 score: 0.8709\n",
      "- Precision: 0.9477\n",
      "- Recall: 0.8056\n",
      "- Roc Auc Score: 0.8801\n",
      "- COST: 689640.\n",
      "===================================\n",
      "\n",
      "\n",
      "K-Neighbors Classifier\n",
      "Model performance for Training set\n",
      "- Accuracy: 0.9729\n",
      "- F1 score: 0.9730\n",
      "- Precision: 0.9661\n",
      "- Recall: 0.9799\n",
      "- Roc Auc Score: 0.9729\n",
      "- COST: 289580.\n",
      "----------------------------------\n",
      "Model performance for Test set\n",
      "- Accuracy: 0.9650\n",
      "- F1 score: 0.9657\n",
      "- Precision: 0.9555\n",
      "- Recall: 0.9761\n",
      "- Roc Auc Score: 0.9648\n",
      "- COST: 87710.\n",
      "===================================\n",
      "\n",
      "\n",
      "Gradient Boosting\n",
      "Model performance for Training set\n",
      "- Accuracy: 0.9415\n",
      "- F1 score: 0.9413\n",
      "- Precision: 0.9434\n",
      "- Recall: 0.9392\n",
      "- Roc Auc Score: 0.9415\n",
      "- COST: 864230.\n",
      "----------------------------------\n",
      "Model performance for Test set\n",
      "- Accuracy: 0.9384\n",
      "- F1 score: 0.9389\n",
      "- Precision: 0.9405\n",
      "- Recall: 0.9373\n",
      "- Roc Auc Score: 0.9384\n",
      "- COST: 225690.\n",
      "===================================\n",
      "\n",
      "\n",
      "XGBClassifier\n",
      "Model performance for Training set\n",
      "- Accuracy: 0.9889\n",
      "- F1 score: 0.9889\n",
      "- Precision: 0.9888\n",
      "- Recall: 0.9889\n",
      "- Roc Auc Score: 0.9889\n",
      "- COST: 157630.\n",
      "----------------------------------\n",
      "Model performance for Test set\n",
      "- Accuracy: 0.9785\n",
      "- F1 score: 0.9789\n",
      "- Precision: 0.9733\n",
      "- Recall: 0.9846\n",
      "- Roc Auc Score: 0.9785\n",
      "- COST: 56410.\n",
      "===================================\n",
      "\n",
      "\n",
      "CatBoosting Classifier\n",
      "Model performance for Training set\n",
      "- Accuracy: 0.9827\n",
      "- F1 score: 0.9826\n",
      "- Precision: 0.9808\n",
      "- Recall: 0.9845\n",
      "- Roc Auc Score: 0.9827\n",
      "- COST: 221870.\n",
      "----------------------------------\n",
      "Model performance for Test set\n",
      "- Accuracy: 0.9746\n",
      "- F1 score: 0.9750\n",
      "- Precision: 0.9692\n",
      "- Recall: 0.9809\n",
      "- Roc Auc Score: 0.9745\n",
      "- COST: 69700.\n",
      "===================================\n",
      "\n",
      "\n"
     ]
    },
    {
     "name": "stderr",
     "output_type": "stream",
     "text": [
      "C:\\Users\\prash\\anaconda3\\Lib\\site-packages\\sklearn\\ensemble\\_weight_boosting.py:527: FutureWarning: The SAMME.R algorithm (the default) is deprecated and will be removed in 1.6. Use the SAMME algorithm to circumvent this warning.\n",
      "  warnings.warn(\n"
     ]
    },
    {
     "name": "stdout",
     "output_type": "stream",
     "text": [
      "AdaBoost Classifier\n",
      "Model performance for Training set\n",
      "- Accuracy: 0.9193\n",
      "- F1 score: 0.9186\n",
      "- Precision: 0.9251\n",
      "- Recall: 0.9121\n",
      "- Roc Auc Score: 0.9193\n",
      "- COST: 1246100.\n",
      "----------------------------------\n",
      "Model performance for Test set\n",
      "- Accuracy: 0.9191\n",
      "- F1 score: 0.9194\n",
      "- Precision: 0.9255\n",
      "- Recall: 0.9133\n",
      "- Roc Auc Score: 0.9192\n",
      "- COST: 311190.\n",
      "===================================\n",
      "\n",
      "\n"
     ]
    }
   ],
   "source": [
    "# Training all models\n",
    "report_pca = evaluate_models(X_res,y_res, models)"
   ]
  },
  {
   "cell_type": "markdown",
   "id": "33d33414",
   "metadata": {},
   "source": [
    "### Report for PCA and Mean imputed data\n"
   ]
  },
  {
   "cell_type": "code",
   "execution_count": 58,
   "id": "5afdd4ca",
   "metadata": {},
   "outputs": [
    {
     "data": {
      "text/html": [
       "<div>\n",
       "<style scoped>\n",
       "    .dataframe tbody tr th:only-of-type {\n",
       "        vertical-align: middle;\n",
       "    }\n",
       "\n",
       "    .dataframe tbody tr th {\n",
       "        vertical-align: top;\n",
       "    }\n",
       "\n",
       "    .dataframe thead th {\n",
       "        text-align: right;\n",
       "    }\n",
       "</style>\n",
       "<table border=\"1\" class=\"dataframe\">\n",
       "  <thead>\n",
       "    <tr style=\"text-align: right;\">\n",
       "      <th></th>\n",
       "      <th>Model Name</th>\n",
       "      <th>Cost</th>\n",
       "    </tr>\n",
       "  </thead>\n",
       "  <tbody>\n",
       "    <tr>\n",
       "      <th>0</th>\n",
       "      <td>Random Forest</td>\n",
       "      <td>39640</td>\n",
       "    </tr>\n",
       "    <tr>\n",
       "      <th>5</th>\n",
       "      <td>XGBClassifier</td>\n",
       "      <td>56410</td>\n",
       "    </tr>\n",
       "    <tr>\n",
       "      <th>6</th>\n",
       "      <td>CatBoosting Classifier</td>\n",
       "      <td>69700</td>\n",
       "    </tr>\n",
       "    <tr>\n",
       "      <th>1</th>\n",
       "      <td>Decision Tree</td>\n",
       "      <td>81760</td>\n",
       "    </tr>\n",
       "    <tr>\n",
       "      <th>3</th>\n",
       "      <td>K-Neighbors Classifier</td>\n",
       "      <td>87710</td>\n",
       "    </tr>\n",
       "    <tr>\n",
       "      <th>4</th>\n",
       "      <td>Gradient Boosting</td>\n",
       "      <td>225690</td>\n",
       "    </tr>\n",
       "    <tr>\n",
       "      <th>7</th>\n",
       "      <td>AdaBoost Classifier</td>\n",
       "      <td>311190</td>\n",
       "    </tr>\n",
       "    <tr>\n",
       "      <th>2</th>\n",
       "      <td>Logistic Regression</td>\n",
       "      <td>689640</td>\n",
       "    </tr>\n",
       "  </tbody>\n",
       "</table>\n",
       "</div>"
      ],
      "text/plain": [
       "               Model Name    Cost\n",
       "0           Random Forest   39640\n",
       "5           XGBClassifier   56410\n",
       "6  CatBoosting Classifier   69700\n",
       "1           Decision Tree   81760\n",
       "3  K-Neighbors Classifier   87710\n",
       "4       Gradient Boosting  225690\n",
       "7     AdaBoost Classifier  311190\n",
       "2     Logistic Regression  689640"
      ]
     },
     "execution_count": 58,
     "metadata": {},
     "output_type": "execute_result"
    }
   ],
   "source": [
    "report_pca"
   ]
  },
  {
   "cell_type": "markdown",
   "id": "0f91422e",
   "metadata": {},
   "source": [
    "## Final Model"
   ]
  },
  {
   "cell_type": "code",
   "execution_count": 66,
   "id": "f93005ac",
   "metadata": {},
   "outputs": [
    {
     "name": "stdout",
     "output_type": "stream",
     "text": [
      "+---------------+-------------------------+------------+\n",
      "|     Model     |    Imputation_method    | Total_cost |\n",
      "+---------------+-------------------------+------------+\n",
      "| XGBClassifier | Simple Imputer-Constant |    2410    |\n",
      "| XGBClassifier |   Simple Imputer-Mean   |    2900    |\n",
      "| XGBClassifier |  Simple Imputer Median  |    1440    |\n",
      "| XGBClassifier |           Mice          |    5210    |\n",
      "| XGBClassifier |       Knn-Imputer       |    5400    |\n",
      "| Random Forest |           PCA           |   39640    |\n",
      "+---------------+-------------------------+------------+\n"
     ]
    }
   ],
   "source": [
    "from prettytable import PrettyTable\n",
    "\n",
    "pt=PrettyTable()\n",
    "pt.field_names=[\"Model\",\"Imputation_method\",\"Total_cost\"]\n",
    "pt.add_row([\"XGBClassifier\",\"Simple Imputer-Constant\",\"2410\"])\n",
    "pt.add_row([\"XGBClassifier\",\"Simple Imputer-Mean\",\"2900\"])\n",
    "pt.add_row([\"XGBClassifier\",\"Simple Imputer Median\",\"1440\"])\n",
    "pt.add_row([\"XGBClassifier\",\"Mice\",\"5210\"])\n",
    "pt.add_row([\"XGBClassifier\",\"Knn-Imputer\",\"5400\"])\n",
    "pt.add_row([\"Random Forest\",\"PCA\",\"39640\"])\n",
    "print(pt)"
   ]
  },
  {
   "cell_type": "markdown",
   "id": "580d9775",
   "metadata": {},
   "source": [
    "**Report**\n",
    "- From the final report we can see than XGBClassifier with Simple imputer with median has performed the best with cost of 1440"
   ]
  },
  {
   "cell_type": "markdown",
   "id": "16d4d063",
   "metadata": {},
   "source": [
    "### Fitting the Final model and get reports"
   ]
  },
  {
   "cell_type": "code",
   "execution_count": 67,
   "id": "1b845b7a",
   "metadata": {},
   "outputs": [
    {
     "name": "stderr",
     "output_type": "stream",
     "text": [
      "C:\\Users\\prash\\anaconda3\\Lib\\site-packages\\imblearn\\over_sampling\\_smote\\base.py:370: FutureWarning: The parameter `n_jobs` has been deprecated in 0.10 and will be removed in 0.12. You can pass an nearest neighbors estimator where `n_jobs` is already set instead.\n",
      "  warnings.warn(\n"
     ]
    }
   ],
   "source": [
    "final_model = XGBClassifier()\n",
    "\n",
    "# Resampling the minority class. The strategy can be changed as required.\n",
    "smt = SMOTETomek(random_state=42,sampling_strategy='minority', n_jobs=-1)\n",
    "# Fit the model to generate the data.\n",
    "X_res, y_res = smt.fit_resample(X_median, y)"
   ]
  },
  {
   "cell_type": "code",
   "execution_count": 68,
   "id": "2f0eb532",
   "metadata": {},
   "outputs": [],
   "source": [
    "X_train, X_test, y_train, y_test = train_test_split(X_res,y_res,test_size=0.2,random_state=42)\n",
    "\n",
    "final_model = final_model.fit(X_train, y_train)\n",
    "y_pred = final_model.predict(X_test)"
   ]
  },
  {
   "cell_type": "code",
   "execution_count": 69,
   "id": "fa445aed",
   "metadata": {},
   "outputs": [
    {
     "name": "stdout",
     "output_type": "stream",
     "text": [
      "Final XGBoost Classifier Accuracy Score (Train) : 0.9999821813581369\n",
      "Final XGBoost Classifier Accuracy Score (Test) : 0.996721545150025\n"
     ]
    }
   ],
   "source": [
    "print(\"Final XGBoost Classifier Accuracy Score (Train) :\", final_model.score(X_train,y_train))\n",
    "print(\"Final XGBoost Classifier Accuracy Score (Test) :\", accuracy_score(y_pred,y_test))"
   ]
  },
  {
   "cell_type": "code",
   "execution_count": 70,
   "id": "67e3360a",
   "metadata": {},
   "outputs": [
    {
     "name": "stdout",
     "output_type": "stream",
     "text": [
      "Final XGBoost Classifier Cost Metric(Test) : 1440\n"
     ]
    }
   ],
   "source": [
    "print(\"Final XGBoost Classifier Cost Metric(Test) :\",total_cost(y_test, y_pred))"
   ]
  },
  {
   "cell_type": "code",
   "execution_count": 71,
   "id": "c5c71c2e",
   "metadata": {},
   "outputs": [
    {
     "data": {
      "text/plain": [
       "<sklearn.metrics._plot.confusion_matrix.ConfusionMatrixDisplay at 0x223ade5a190>"
      ]
     },
     "execution_count": 71,
     "metadata": {},
     "output_type": "execute_result"
    },
    {
     "data": {
      "image/png": "[encoded data removed]",
      "text/plain": [
       "<Figure size 640x480 with 2 Axes>"
      ]
     },
     "metadata": {},
     "output_type": "display_data"
    }
   ],
   "source": [
    "from sklearn.metrics import ConfusionMatrixDisplay, confusion_matrix\n",
    "\n",
    "# Make predictions\n",
    "y_pred = final_model.predict(X_test)\n",
    "\n",
    "# Compute the confusion matrix\n",
    "cm = confusion_matrix(y_test, y_pred)\n",
    "\n",
    "# Create a ConfusionMatrixDisplay object\n",
    "disp = ConfusionMatrixDisplay(confusion_matrix=cm)\n",
    "\n",
    "# Plot the confusion matrix\n",
    "disp.plot(cmap='Blues', values_format='d')\n"
   ]
  },
  {
   "cell_type": "markdown",
   "id": "be6999cc",
   "metadata": {},
   "source": [
    "## The best Model is XGBClassifier Classifier with 99.67% accuracy and cost of 1440"
   ]
  },
  {
   "cell_type": "markdown",
   "id": "14f107e9",
   "metadata": {},
   "source": [
    "In the context of this confusion matrix for a truck repair prediction model, the costs associated with False Positives (FP) and False Negatives (FN) can be evaluated as follows:\n",
    "\n",
    "Breakdown of the Costs:\n",
    "\n",
    "`False Positives (Cost_1):`\n",
    "\n",
    "In the confusion matrix, we see 44 false positives. These represent cases where the model predicted that a truck needed repairs (positive), but in reality, it didn't (negative).\n",
    "Cost_1 is defined as $10 per false positive, which represents the cost of an unnecessary check by a mechanic.\n",
    "The total cost for false positives would be:\n",
    "\n",
    "**Total Cost of False Positives=44×10=$440**\n",
    "\n",
    "`False Negatives (Cost_2):`\n",
    "\n",
    "In the confusion matrix, we have 2 false negatives. These represent cases where the model predicted that a truck did not need repairs (negative), but it actually did (positive). This could lead to a costly breakdown.\n",
    "Cost_2 is defined as $500 per false negative, representing the cost of missing a faulty truck.\n",
    "The total cost for false negatives would be:\n",
    "\n",
    "**Total Cost of False Negatives = 2×500 =$1000**\n",
    "\n",
    "Total Cost:\n",
    "The overall cost for the model’s errors (false positives and false negatives) is:\n",
    "Total Cost=440+1000=$1440\n",
    "\n",
    "Implications:\n",
    "Even though there are more false positives (44 instances), the cost of false negatives is much higher ($500 vs. $10), making false negatives more impactful in terms of cost.\n",
    "In this case, minimizing false negatives (trucks that need repair but are missed) should be a priority because their associated cost is significantly higher, potentially leading to dangerous truck breakdowns."
   ]
  },
  {
   "cell_type": "code",
   "execution_count": null,
   "id": "d0aeffbf",
   "metadata": {},
   "outputs": [],
   "source": []
  }
 ],
 "metadata": {
  "kernelspec": {
   "display_name": "Python 3 (ipykernel)",
   "language": "python",
   "name": "python3"
  },
  "language_info": {
   "codemirror_mode": {
    "name": "ipython",
    "version": 3
   },
   "file_extension": ".py",
   "mimetype": "text/x-python",
   "name": "python",
   "nbconvert_exporter": "python",
   "pygments_lexer": "ipython3",
   "version": "3.11.7"
  }
 },
 "nbformat": 4,
 "nbformat_minor": 5
}
